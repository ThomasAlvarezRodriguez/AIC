{
 "cells": [
  {
   "cell_type": "code",
   "execution_count": 27,
   "metadata": {},
   "outputs": [
    {
     "name": "stderr",
     "output_type": "stream",
     "text": [
      "C:\\Users\\eityg\\AppData\\Local\\Temp\\ipykernel_8784\\434778480.py:6: DtypeWarning: Columns (4,6,31,33,61,62,63,76,79,90,92,94,96,114,115,121) have mixed types. Specify dtype option on import or set low_memory=False.\n",
      "  df = pd.read_csv('Data.csv', sep=',')\n"
     ]
    }
   ],
   "source": [
    "#on charge le dataset et on le met dans un dataframe\n",
    "import pandas as pd\n",
    "import numpy as np\n",
    "import matplotlib.pyplot as plt\n",
    "\n",
    "df = pd.read_csv('Data.csv', sep=',')\n",
    "\n"
   ]
  },
  {
   "cell_type": "code",
   "execution_count": 28,
   "metadata": {},
   "outputs": [],
   "source": [
    "# On ne peut pas garder toutes les colonnes, un choix s'opère donc. \n",
    "\n",
    "# Nous scindons les colonnes restantes dans plusieurs dataframes :\n",
    "\n",
    "# Data, dataframe général, possédant \"eventid\",\"iyear\",\"imonth\",\"iday\",\"extended\",\"resolution\",\"country_txt\",\"region_txt\",\"provstate\",\"city\",\"success\", \"suicide\",\"attacktype1_txt\", \"targtype1_txt\",\"targsubtype1_txt\",\"natlty1_txt\",\"gname\",\"nperps\",\"claimed\",\"weaptype1_txt\",\"weapsubtype1_txt\",\"nkill\",\"nwound\",\"dbsource\"\n",
    "Data = df[[\"eventid\",\"iyear\",\"imonth\",\"iday\",\"extended\",\"resolution\",\"country_txt\",\"region_txt\",\"provstate\",\"city\",\"success\", \"suicide\",\"attacktype1_txt\", \"targtype1_txt\",\"targsubtype1_txt\",\"natlty1_txt\",\"gname\",\"nperps\",\"claimed\",\"weaptype1_txt\",\"weapsubtype1_txt\",\"nkill\",\"nwound\",\"dbsource\"]]\n",
    "# geo, dataframe ayant pour but la géolocalisation, comprenant \"eventid\", \"latitude\", \"longitude\"\n",
    "geo = df[[\"eventid\", \"latitude\", \"longitude\"]]\n",
    "#headlines, dataframe comprenant les descriptions. \"eventid\",\"summary\"\n",
    "headlines = df[[\"eventid\",\"summary\"]]"
   ]
  },
  {
   "cell_type": "code",
   "execution_count": null,
   "metadata": {},
   "outputs": [],
   "source": []
  }
 ],
 "metadata": {
  "kernelspec": {
   "display_name": "Python 3",
   "language": "python",
   "name": "python3"
  },
  "language_info": {
   "codemirror_mode": {
    "name": "ipython",
    "version": 3
   },
   "file_extension": ".py",
   "mimetype": "text/x-python",
   "name": "python",
   "nbconvert_exporter": "python",
   "pygments_lexer": "ipython3",
   "version": "3.11.0"
  },
  "orig_nbformat": 4,
  "vscode": {
   "interpreter": {
    "hash": "211d6f00721faa73739c8552fbb93c7b0db50a8a64fc4250b0f38fa2e7420f95"
   }
  }
 },
 "nbformat": 4,
 "nbformat_minor": 2
}
