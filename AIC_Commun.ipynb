{
 "cells": [
  {
   "cell_type": "code",
   "execution_count": null,
   "metadata": {},
   "outputs": [],
   "source": [
    "#on charge le dataset et on le met dans un dataframe\n",
    "import pandas as pd\n",
    "import numpy as np\n",
    "import matplotlib.pyplot as plt\n",
    "pd.options.mode.chained_assignment = None\n",
    "from folium.plugins import HeatMap\n",
    "import folium\n",
    "df = pd.read_csv('Data.csv', sep=',', low_memory=False)"
   ]
  },
  {
   "cell_type": "code",
   "execution_count": null,
   "metadata": {},
   "outputs": [],
   "source": [
    "# On ne peut pas garder toutes les colonnes, un choix s'opère donc. \n",
    "\n",
    "# Nous scindons les colonnes restantes dans plusieurs dataframes :\n",
    "\n",
    "# Data, dataframe général, possédant \"eventid\",\"iyear\",\"imonth\",\"iday\",\"extended\",\"resolution\",\"country_txt\",\"region_txt\",\"provstate\",\"city\",\"success\", \"suicide\",\"attacktype1_txt\", \"targtype1_txt\",\"targsubtype1_txt\",\"natlty1_txt\",\"gname\",\"nperps\",\"claimed\",\"weaptype1_txt\",\"weapsubtype1_txt\",\"nkill\",\"nwound\",\"dbsource\"\n",
    "Data = df[[\"eventid\",\"iyear\",\"imonth\",\"iday\",\"extended\",\"resolution\",\"country_txt\",\"region_txt\",\"provstate\",\"city\",\"success\", \"suicide\",\"attacktype1_txt\", \"targtype1_txt\",\"targsubtype1_txt\",\"natlty1_txt\",\"gname\",\"nperps\",\"claimed\",\"weaptype1_txt\",\"weapsubtype1_txt\",\"nkill\",\"nwound\",\"dbsource\"]]\n",
    "\n",
    "#On remplace les valeurs vides de la colonne claimed par 0\n",
    "Data['claimed'].fillna(0,inplace=True)\n",
    "#On remplace les valeurs vides de la colonne nperps par \"Inconnu\"\n",
    "Data['nperps'].fillna(-99.0,inplace=True)\n",
    "#On remplace les valeurs vides de la colonne nkill par \"Inconnu\"\n",
    "Data['nkill'].fillna(-99.0,inplace=True)\n",
    "#On remplace les valeurs vides de la colonne nwound par \"Inconnu\"\n",
    "Data['nwound'].fillna(-99.0,inplace=True)\n",
    "#on remplace les valeurs vides de la colonne resolution par la date de l'attentat dans le format \"jour/mois/année\"\n",
    "Data['resolution'].fillna(Data['iday'].astype(str) + \"/\" + Data['imonth'].astype(str) + \"/\" + Data['iyear'].astype(str),inplace=True)\n",
    "#On drop les coordonnées null\n",
    "Data = Data.dropna(subset=['latitude', 'longitude'])\n",
    "\n",
    "Data.to_csv(\"Trait2.csv\")\n",
    "\n",
    "Trait = pd.read_csv('Trait2.csv', sep=',', low_memory=False)"
   ]
  },
  {
   "cell_type": "code",
   "execution_count": null,
   "metadata": {},
   "outputs": [],
   "source": [
    "# geo, dataframe ayant pour but la géolocalisation, comprenant \"eventid\", \"latitude\", \"longitude\",\"region_txt\",\"country_txt\"\n",
    "geo = df[[\"eventid\", \"latitude\", \"longitude\",\"region_txt\",\"country_txt\"]].dropna()\n",
    "\n",
    "geo.to_csv(\"Geo.csv\")"
   ]
  },
  {
   "cell_type": "code",
   "execution_count": null,
   "metadata": {},
   "outputs": [],
   "source": [
    "#headlines, dataframe comprenant les descriptions. \"eventid\",\"summary\"\n",
    "headlines = df[[\"eventid\",\"summary\"]]"
   ]
  },
  {
   "cell_type": "code",
   "execution_count": null,
   "metadata": {},
   "outputs": [],
   "source": [
    "# On regarde le nombre de d'attentats revendiqués par rapport au nombre total \n",
    "\n",
    "Revendiqué = df[[\"claimed\"]]\n",
    "\n",
    "#On récupère le nombre de ligne ou la colonne \"claimed\" est égale à 1 dans la variable \"count\"\n",
    "\n",
    "count = Revendiqué[Revendiqué.claimed == 1].count()\n",
    "\n",
    "#On récupère le nombre de ligne total dans la variable \"count2\"\n",
    "\n",
    "count2 = Revendiqué.count()\n",
    "\n",
    "#On calcule le pourcentage de ligne ou la colonne \"claimed\" est égale à 1\n",
    "\n",
    "pourcentage = (count/count2)*100\n",
    "\n",
    "print(pourcentage)\n"
   ]
  },
  {
   "cell_type": "code",
   "execution_count": null,
   "metadata": {},
   "outputs": [],
   "source": [
    " # On regarde le nombre d'attentats par année pour voir comment évolue le terrorisme au fil des années\n",
    "\n",
    "#On récupère le nombre d'attentats par année dans la variable \"YearCount\"\n",
    "\n",
    "YearCount = df[[\"eventid\",\"iyear\"]].groupby('iyear').count()"
   ]
  },
  {
   "cell_type": "code",
   "execution_count": null,
   "metadata": {},
   "outputs": [],
   "source": [
    "import folium\n",
    "from folium.plugins import MarkerCluster, FeatureGroupSubGroup\n",
    "\n",
    "# créer la carte centrée sur la position moyenne des événements\n",
    "map = folium.Map(location=[geo['latitude'].mean(), geo['longitude'].mean()], zoom_start=4)\n",
    "\n",
    "# créer un groupe de marqueurs clusterisés\n",
    "marker_cluster = MarkerCluster().add_to(map)\n",
    "\n",
    "# ajouter un marqueur pour chaque événement dans le groupe de marqueurs clusterisés\n",
    "for index, row in geo.iterrows():\n",
    "    folium.Marker(location=[row['latitude'], row['longitude']]).add_to(marker_cluster)\n",
    "\n",
    "# créer un groupe pour afficher le nombre de marqueurs dans chaque cluster\n",
    "sub_group = folium.plugins.FeatureGroupSubGroup(marker_cluster, 'Events Count')\n",
    "\n",
    "# ajouter le groupe à la carte\n",
    "map.add_child(sub_group)\n",
    "\n",
    "# ajouter un compteur pour chaque cluster\n",
    "for i, layer in enumerate(marker_cluster._children.values()):\n",
    "    count = len(layer._children)\n",
    "    bounds = layer.get_bounds()\n",
    "    pos = [(bounds[0][0] + bounds[1][0]) / 2, (bounds[0][1] + bounds[1][1]) / 2]\n",
    "    folium.Marker(location=pos, icon=folium.Icon(icon='info-sign'), tooltip=str(count)).add_to(sub_group)\n",
    "\n",
    "map.save(\"CarteGenerale.html\")"
   ]
  },
  {
   "cell_type": "code",
   "execution_count": null,
   "metadata": {},
   "outputs": [],
   "source": [
    "def create_heatmap_for_region(region_data, region_name):\n",
    "    # Créer une carte centrée sur les coordonnées moyennes de la région\n",
    "    map_center = [region_data['latitude'].mean(), region_data['longitude'].mean()]\n",
    "    region_map = folium.Map(location=map_center, zoom_start=4)\n",
    "\n",
    "    # Préparez les données pour la heatmap\n",
    "    heat_data = [[row['latitude'], row['longitude']] for index, row in region_data.iterrows()]\n",
    "\n",
    "    # Ajoutez la heatmap à la carte\n",
    "    HeatMap(heat_data).add_to(region_map)\n",
    "\n",
    "    # Sauvegarder la heatmap dans un fichier HTML\n",
    "    region_map.save(f'{region_name}_heatmap.html')\n",
    "\n",
    "    print(f'{region_name} heatmap created')\n"
   ]
  },
  {
   "cell_type": "code",
   "execution_count": null,
   "metadata": {},
   "outputs": [],
   "source": [
    "regions = Trait['region_txt'].unique()\n",
    "for region in regions:\n",
    "    region_data = Trait[Trait['region_txt'] == region]\n",
    "    create_heatmap_for_region(region_data, region)\n"
   ]
  },
  {
   "cell_type": "code",
   "execution_count": null,
   "metadata": {},
   "outputs": [],
   "source": [
    "# Créer un dataframe pour comptabiliser le nombre d'événements par pays et continent\n",
    "events_by_country = geo.groupby(['region_txt', 'country_txt']).size().reset_index(name='count')\n",
    "\n",
    "# Boucle pour créer une carte pour chaque continent\n",
    "for continent in events_by_country['region_txt'].unique():\n",
    "\n",
    "    # Créer un dataframe pour le continent en cours\n",
    "    continent_df = events_by_country[events_by_country['region_txt'] == continent]\n",
    "\n",
    "   # Obtenir les informations de localisation pour chaque pays dans le continent\n",
    "    country_locations = geo.loc[geo['region_txt'] == continent, ['latitude', 'longitude', 'country_txt']].drop_duplicates()\n",
    "\n",
    "    # Créer une carte centrée sur la position moyenne des événements pour ce continent\n",
    "    map = folium.Map(location=[country_locations['latitude'].mean(), country_locations['longitude'].mean()], zoom_start=4)\n",
    "\n",
    "    # Ajouter un marqueur pour chaque pays dans le continent\n",
    "    for index, row in country_locations.iterrows():\n",
    "     folium.Marker(location=[row['latitude'], row['longitude']], popup=row['country_txt'] + ': ' + str(events_by_country[(events_by_country['region_txt'] == continent) & (events_by_country['country_txt'] == row['country_txt'])]['count'].values[0])).add_to(map)\n",
    "\n",
    "    # Enregistrer la carte\n",
    "    map.save(continent + '_events_map.html')\n"
   ]
  }
 ],
 "metadata": {
  "language_info": {
   "name": "python"
  },
  "orig_nbformat": 4
 },
 "nbformat": 4,
 "nbformat_minor": 2
}
