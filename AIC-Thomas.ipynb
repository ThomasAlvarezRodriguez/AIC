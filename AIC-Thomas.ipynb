{
 "cells": [
  {
   "cell_type": "code",
   "execution_count": 25,
   "metadata": {},
   "outputs": [],
   "source": [
    "#on charge le dataset et on le met dans un dataframe\n",
    "import pandas as pd\n",
    "import numpy as np\n",
    "import matplotlib.pyplot as plt\n",
    "import folium\n",
    "\n",
    "df = pd.read_csv('Data.csv', sep=',', low_memory=False)\n",
    "\n"
   ]
  },
  {
   "cell_type": "code",
   "execution_count": 30,
   "metadata": {},
   "outputs": [],
   "source": [
    "# On ne peut pas garder toutes les colonnes, un choix s'opère donc. \n",
    "\n",
    "# Nous scindons les colonnes restantes dans plusieurs dataframes :\n",
    "\n",
    "# Data, dataframe général, possédant \"eventid\",\"iyear\",\"imonth\",\"iday\",\"extended\",\"resolution\",\"country_txt\",\"region_txt\",\"provstate\",\"city\",\"success\", \"suicide\",\"attacktype1_txt\", \"targtype1_txt\",\"targsubtype1_txt\",\"natlty1_txt\",\"gname\",\"nperps\",\"claimed\",\"weaptype1_txt\",\"weapsubtype1_txt\",\"nkill\",\"nwound\",\"dbsource\"\n",
    "Data = df[[\"eventid\",\"iyear\",\"imonth\",\"iday\",\"extended\",\"resolution\",\"country_txt\",\"region_txt\",\"provstate\",\"city\",\"success\", \"suicide\",\"attacktype1_txt\", \"targtype1_txt\",\"targsubtype1_txt\",\"natlty1_txt\",\"gname\",\"nperps\",\"claimed\",\"weaptype1_txt\",\"weapsubtype1_txt\",\"nkill\",\"nwound\",\"dbsource\"]]\n"
   ]
  },
  {
   "cell_type": "code",
   "execution_count": 20,
   "metadata": {},
   "outputs": [],
   "source": [
    "# geo, dataframe ayant pour but la géolocalisation, comprenant \"eventid\", \"latitude\", \"longitude\",\"region_txt\",\"country_txt\"\n",
    "geo = df[[\"eventid\", \"latitude\", \"longitude\",\"region_txt\",\"country_txt\"]].dropna()\n",
    "\n",
    "geo.to_csv(\"Geo.csv\")"
   ]
  },
  {
   "cell_type": "code",
   "execution_count": 21,
   "metadata": {},
   "outputs": [],
   "source": [
    "#headlines, dataframe comprenant les descriptions. \"eventid\",\"summary\"\n",
    "headlines = df[[\"eventid\",\"summary\"]]"
   ]
  },
  {
   "attachments": {},
   "cell_type": "markdown",
   "metadata": {},
   "source": [
    "On va tester les données géographiques avec le dataframe geo"
   ]
  },
  {
   "cell_type": "code",
   "execution_count": 22,
   "metadata": {},
   "outputs": [
    {
     "ename": "KeyboardInterrupt",
     "evalue": "",
     "output_type": "error",
     "traceback": [
      "\u001b[1;31m---------------------------------------------------------------------------\u001b[0m",
      "\u001b[1;31mKeyboardInterrupt\u001b[0m                         Traceback (most recent call last)",
      "\u001b[1;32mc:\\Users\\eityg\\Git\\AIC\\AIC-Thomas.ipynb Cell 6\u001b[0m in \u001b[0;36m2\n\u001b[0;32m     <a href='vscode-notebook-cell:/c%3A/Users/eityg/Git/AIC/AIC-Thomas.ipynb#W5sZmlsZQ%3D%3D?line=17'>18</a>\u001b[0m  folium\u001b[39m.\u001b[39mMarker(location\u001b[39m=\u001b[39m[row[\u001b[39m'\u001b[39m\u001b[39mlatitude\u001b[39m\u001b[39m'\u001b[39m], row[\u001b[39m'\u001b[39m\u001b[39mlongitude\u001b[39m\u001b[39m'\u001b[39m]], popup\u001b[39m=\u001b[39mrow[\u001b[39m'\u001b[39m\u001b[39mcountry_txt\u001b[39m\u001b[39m'\u001b[39m] \u001b[39m+\u001b[39m \u001b[39m'\u001b[39m\u001b[39m: \u001b[39m\u001b[39m'\u001b[39m \u001b[39m+\u001b[39m \u001b[39mstr\u001b[39m(events_by_country[(events_by_country[\u001b[39m'\u001b[39m\u001b[39mregion_txt\u001b[39m\u001b[39m'\u001b[39m] \u001b[39m==\u001b[39m continent) \u001b[39m&\u001b[39m (events_by_country[\u001b[39m'\u001b[39m\u001b[39mcountry_txt\u001b[39m\u001b[39m'\u001b[39m] \u001b[39m==\u001b[39m row[\u001b[39m'\u001b[39m\u001b[39mcountry_txt\u001b[39m\u001b[39m'\u001b[39m])][\u001b[39m'\u001b[39m\u001b[39mcount\u001b[39m\u001b[39m'\u001b[39m]\u001b[39m.\u001b[39mvalues[\u001b[39m0\u001b[39m]))\u001b[39m.\u001b[39madd_to(\u001b[39mmap\u001b[39m)\n\u001b[0;32m     <a href='vscode-notebook-cell:/c%3A/Users/eityg/Git/AIC/AIC-Thomas.ipynb#W5sZmlsZQ%3D%3D?line=19'>20</a>\u001b[0m \u001b[39m# Enregistrer la carte\u001b[39;00m\n\u001b[1;32m---> <a href='vscode-notebook-cell:/c%3A/Users/eityg/Git/AIC/AIC-Thomas.ipynb#W5sZmlsZQ%3D%3D?line=20'>21</a>\u001b[0m \u001b[39mmap\u001b[39;49m\u001b[39m.\u001b[39;49msave(continent \u001b[39m+\u001b[39;49m \u001b[39m'\u001b[39;49m\u001b[39m_events_map.html\u001b[39;49m\u001b[39m'\u001b[39;49m)\n",
      "File \u001b[1;32mc:\\Users\\eityg\\AppData\\Local\\Programs\\Python\\Python311\\Lib\\site-packages\\branca\\element.py:169\u001b[0m, in \u001b[0;36mElement.save\u001b[1;34m(self, outfile, close_file, **kwargs)\u001b[0m\n\u001b[0;32m    166\u001b[0m     fid \u001b[39m=\u001b[39m outfile\n\u001b[0;32m    168\u001b[0m root \u001b[39m=\u001b[39m \u001b[39mself\u001b[39m\u001b[39m.\u001b[39mget_root()\n\u001b[1;32m--> 169\u001b[0m html \u001b[39m=\u001b[39m root\u001b[39m.\u001b[39;49mrender(\u001b[39m*\u001b[39;49m\u001b[39m*\u001b[39;49mkwargs)\n\u001b[0;32m    170\u001b[0m fid\u001b[39m.\u001b[39mwrite(html\u001b[39m.\u001b[39mencode(\u001b[39m'\u001b[39m\u001b[39mutf8\u001b[39m\u001b[39m'\u001b[39m))\n\u001b[0;32m    171\u001b[0m \u001b[39mif\u001b[39;00m close_file:\n",
      "File \u001b[1;32mc:\\Users\\eityg\\AppData\\Local\\Programs\\Python\\Python311\\Lib\\site-packages\\branca\\element.py:321\u001b[0m, in \u001b[0;36mFigure.render\u001b[1;34m(self, **kwargs)\u001b[0m\n\u001b[0;32m    319\u001b[0m \u001b[39m\"\"\"Renders the HTML representation of the element.\"\"\"\u001b[39;00m\n\u001b[0;32m    320\u001b[0m \u001b[39mfor\u001b[39;00m name, child \u001b[39min\u001b[39;00m \u001b[39mself\u001b[39m\u001b[39m.\u001b[39m_children\u001b[39m.\u001b[39mitems():\n\u001b[1;32m--> 321\u001b[0m     child\u001b[39m.\u001b[39;49mrender(\u001b[39m*\u001b[39;49m\u001b[39m*\u001b[39;49mkwargs)\n\u001b[0;32m    322\u001b[0m \u001b[39mreturn\u001b[39;00m \u001b[39mself\u001b[39m\u001b[39m.\u001b[39m_template\u001b[39m.\u001b[39mrender(this\u001b[39m=\u001b[39m\u001b[39mself\u001b[39m, kwargs\u001b[39m=\u001b[39mkwargs)\n",
      "File \u001b[1;32mc:\\Users\\eityg\\AppData\\Local\\Programs\\Python\\Python311\\Lib\\site-packages\\folium\\folium.py:366\u001b[0m, in \u001b[0;36mMap.render\u001b[1;34m(self, **kwargs)\u001b[0m\n\u001b[0;32m    347\u001b[0m figure\u001b[39m.\u001b[39mheader\u001b[39m.\u001b[39madd_child(Element(\n\u001b[0;32m    348\u001b[0m     \u001b[39m'\u001b[39m\u001b[39m<style>html, body \u001b[39m\u001b[39m{\u001b[39m\u001b[39m'\u001b[39m\n\u001b[0;32m    349\u001b[0m     \u001b[39m'\u001b[39m\u001b[39mwidth: 100\u001b[39m\u001b[39m%\u001b[39m\u001b[39m;\u001b[39m\u001b[39m'\u001b[39m\n\u001b[1;32m   (...)\u001b[0m\n\u001b[0;32m    353\u001b[0m     \u001b[39m'\u001b[39m\u001b[39m}\u001b[39m\u001b[39m'\u001b[39m\n\u001b[0;32m    354\u001b[0m     \u001b[39m'\u001b[39m\u001b[39m</style>\u001b[39m\u001b[39m'\u001b[39m), name\u001b[39m=\u001b[39m\u001b[39m'\u001b[39m\u001b[39mcss_style\u001b[39m\u001b[39m'\u001b[39m)\n\u001b[0;32m    356\u001b[0m figure\u001b[39m.\u001b[39mheader\u001b[39m.\u001b[39madd_child(Element(\n\u001b[0;32m    357\u001b[0m     \u001b[39m'\u001b[39m\u001b[39m<style>#map \u001b[39m\u001b[39m{\u001b[39m\u001b[39m'\u001b[39m\n\u001b[0;32m    358\u001b[0m     \u001b[39m'\u001b[39m\u001b[39mposition:absolute;\u001b[39m\u001b[39m'\u001b[39m\n\u001b[1;32m   (...)\u001b[0m\n\u001b[0;32m    363\u001b[0m     \u001b[39m'\u001b[39m\u001b[39m}\u001b[39m\u001b[39m'\u001b[39m\n\u001b[0;32m    364\u001b[0m     \u001b[39m'\u001b[39m\u001b[39m</style>\u001b[39m\u001b[39m'\u001b[39m), name\u001b[39m=\u001b[39m\u001b[39m'\u001b[39m\u001b[39mmap_style\u001b[39m\u001b[39m'\u001b[39m)\n\u001b[1;32m--> 366\u001b[0m \u001b[39msuper\u001b[39;49m(Map, \u001b[39mself\u001b[39;49m)\u001b[39m.\u001b[39;49mrender(\u001b[39m*\u001b[39;49m\u001b[39m*\u001b[39;49mkwargs)\n",
      "File \u001b[1;32mc:\\Users\\eityg\\AppData\\Local\\Programs\\Python\\Python311\\Lib\\site-packages\\folium\\elements.py:21\u001b[0m, in \u001b[0;36mJSCSSMixin.render\u001b[1;34m(self, **kwargs)\u001b[0m\n\u001b[0;32m     18\u001b[0m \u001b[39mfor\u001b[39;00m name, url \u001b[39min\u001b[39;00m \u001b[39mself\u001b[39m\u001b[39m.\u001b[39mdefault_css:\n\u001b[0;32m     19\u001b[0m     figure\u001b[39m.\u001b[39mheader\u001b[39m.\u001b[39madd_child(CssLink(url), name\u001b[39m=\u001b[39mname)\n\u001b[1;32m---> 21\u001b[0m \u001b[39msuper\u001b[39;49m()\u001b[39m.\u001b[39;49mrender(\u001b[39m*\u001b[39;49m\u001b[39m*\u001b[39;49mkwargs)\n",
      "File \u001b[1;32mc:\\Users\\eityg\\AppData\\Local\\Programs\\Python\\Python311\\Lib\\site-packages\\branca\\element.py:628\u001b[0m, in \u001b[0;36mMacroElement.render\u001b[1;34m(self, **kwargs)\u001b[0m\n\u001b[0;32m    624\u001b[0m     figure\u001b[39m.\u001b[39mscript\u001b[39m.\u001b[39madd_child(Element(script(\u001b[39mself\u001b[39m, kwargs)),\n\u001b[0;32m    625\u001b[0m                             name\u001b[39m=\u001b[39m\u001b[39mself\u001b[39m\u001b[39m.\u001b[39mget_name())\n\u001b[0;32m    627\u001b[0m \u001b[39mfor\u001b[39;00m name, element \u001b[39min\u001b[39;00m \u001b[39mself\u001b[39m\u001b[39m.\u001b[39m_children\u001b[39m.\u001b[39mitems():\n\u001b[1;32m--> 628\u001b[0m     element\u001b[39m.\u001b[39;49mrender(\u001b[39m*\u001b[39;49m\u001b[39m*\u001b[39;49mkwargs)\n",
      "File \u001b[1;32mc:\\Users\\eityg\\AppData\\Local\\Programs\\Python\\Python311\\Lib\\site-packages\\folium\\map.py:306\u001b[0m, in \u001b[0;36mMarker.render\u001b[1;34m(self)\u001b[0m\n\u001b[0;32m    304\u001b[0m \u001b[39mif\u001b[39;00m \u001b[39mself\u001b[39m\u001b[39m.\u001b[39mlocation \u001b[39mis\u001b[39;00m \u001b[39mNone\u001b[39;00m:\n\u001b[0;32m    305\u001b[0m     \u001b[39mraise\u001b[39;00m \u001b[39mValueError\u001b[39;00m(\u001b[39m\"\u001b[39m\u001b[39m{}\u001b[39;00m\u001b[39m location must be assigned when added directly to map.\u001b[39m\u001b[39m\"\u001b[39m\u001b[39m.\u001b[39mformat(\u001b[39mself\u001b[39m\u001b[39m.\u001b[39m_name))\n\u001b[1;32m--> 306\u001b[0m \u001b[39msuper\u001b[39;49m(Marker, \u001b[39mself\u001b[39;49m)\u001b[39m.\u001b[39;49mrender()\n",
      "File \u001b[1;32mc:\\Users\\eityg\\AppData\\Local\\Programs\\Python\\Python311\\Lib\\site-packages\\branca\\element.py:624\u001b[0m, in \u001b[0;36mMacroElement.render\u001b[1;34m(self, **kwargs)\u001b[0m\n\u001b[0;32m    622\u001b[0m script \u001b[39m=\u001b[39m \u001b[39mself\u001b[39m\u001b[39m.\u001b[39m_template\u001b[39m.\u001b[39mmodule\u001b[39m.\u001b[39m\u001b[39m__dict__\u001b[39m\u001b[39m.\u001b[39mget(\u001b[39m'\u001b[39m\u001b[39mscript\u001b[39m\u001b[39m'\u001b[39m, \u001b[39mNone\u001b[39;00m)\n\u001b[0;32m    623\u001b[0m \u001b[39mif\u001b[39;00m script \u001b[39mis\u001b[39;00m \u001b[39mnot\u001b[39;00m \u001b[39mNone\u001b[39;00m:\n\u001b[1;32m--> 624\u001b[0m     figure\u001b[39m.\u001b[39mscript\u001b[39m.\u001b[39madd_child(Element(script(\u001b[39mself\u001b[39;49m, kwargs)),\n\u001b[0;32m    625\u001b[0m                             name\u001b[39m=\u001b[39m\u001b[39mself\u001b[39m\u001b[39m.\u001b[39mget_name())\n\u001b[0;32m    627\u001b[0m \u001b[39mfor\u001b[39;00m name, element \u001b[39min\u001b[39;00m \u001b[39mself\u001b[39m\u001b[39m.\u001b[39m_children\u001b[39m.\u001b[39mitems():\n\u001b[0;32m    628\u001b[0m     element\u001b[39m.\u001b[39mrender(\u001b[39m*\u001b[39m\u001b[39m*\u001b[39mkwargs)\n",
      "File \u001b[1;32mc:\\Users\\eityg\\AppData\\Local\\Programs\\Python\\Python311\\Lib\\site-packages\\branca\\element.py:61\u001b[0m, in \u001b[0;36mElement.__init__\u001b[1;34m(self, template, template_name)\u001b[0m\n\u001b[0;32m     58\u001b[0m \u001b[39mself\u001b[39m\u001b[39m.\u001b[39m_parent \u001b[39m=\u001b[39m \u001b[39mNone\u001b[39;00m\n\u001b[0;32m     60\u001b[0m \u001b[39mif\u001b[39;00m template \u001b[39mis\u001b[39;00m \u001b[39mnot\u001b[39;00m \u001b[39mNone\u001b[39;00m:\n\u001b[1;32m---> 61\u001b[0m     \u001b[39mself\u001b[39m\u001b[39m.\u001b[39m_template \u001b[39m=\u001b[39m Template(template)\n\u001b[0;32m     62\u001b[0m \u001b[39melif\u001b[39;00m template_name \u001b[39mis\u001b[39;00m \u001b[39mnot\u001b[39;00m \u001b[39mNone\u001b[39;00m:\n\u001b[0;32m     63\u001b[0m     \u001b[39mself\u001b[39m\u001b[39m.\u001b[39m_template \u001b[39m=\u001b[39m ENV\u001b[39m.\u001b[39mget_template(template_name)\n",
      "File \u001b[1;32mc:\\Users\\eityg\\AppData\\Local\\Programs\\Python\\Python311\\Lib\\site-packages\\jinja2\\environment.py:1208\u001b[0m, in \u001b[0;36mTemplate.__new__\u001b[1;34m(cls, source, block_start_string, block_end_string, variable_start_string, variable_end_string, comment_start_string, comment_end_string, line_statement_prefix, line_comment_prefix, trim_blocks, lstrip_blocks, newline_sequence, keep_trailing_newline, extensions, optimized, undefined, finalize, autoescape, enable_async)\u001b[0m\n\u001b[0;32m   1161\u001b[0m \u001b[39mdef\u001b[39;00m \u001b[39m__new__\u001b[39m(\n\u001b[0;32m   1162\u001b[0m     \u001b[39mcls\u001b[39m,\n\u001b[0;32m   1163\u001b[0m     source: t\u001b[39m.\u001b[39mUnion[\u001b[39mstr\u001b[39m, nodes\u001b[39m.\u001b[39mTemplate],\n\u001b[1;32m   (...)\u001b[0m\n\u001b[0;32m   1181\u001b[0m     enable_async: \u001b[39mbool\u001b[39m \u001b[39m=\u001b[39m \u001b[39mFalse\u001b[39;00m,\n\u001b[0;32m   1182\u001b[0m ) \u001b[39m-\u001b[39m\u001b[39m>\u001b[39m t\u001b[39m.\u001b[39mAny:  \u001b[39m# it returns a `Template`, but this breaks the sphinx build...\u001b[39;00m\n\u001b[0;32m   1183\u001b[0m     env \u001b[39m=\u001b[39m get_spontaneous_environment(\n\u001b[0;32m   1184\u001b[0m         \u001b[39mcls\u001b[39m\u001b[39m.\u001b[39menvironment_class,  \u001b[39m# type: ignore\u001b[39;00m\n\u001b[0;32m   1185\u001b[0m         block_start_string,\n\u001b[1;32m   (...)\u001b[0m\n\u001b[0;32m   1206\u001b[0m         enable_async,\n\u001b[0;32m   1207\u001b[0m     )\n\u001b[1;32m-> 1208\u001b[0m     \u001b[39mreturn\u001b[39;00m env\u001b[39m.\u001b[39;49mfrom_string(source, template_class\u001b[39m=\u001b[39;49m\u001b[39mcls\u001b[39;49m)\n",
      "File \u001b[1;32mc:\\Users\\eityg\\AppData\\Local\\Programs\\Python\\Python311\\Lib\\site-packages\\jinja2\\environment.py:1105\u001b[0m, in \u001b[0;36mEnvironment.from_string\u001b[1;34m(self, source, globals, template_class)\u001b[0m\n\u001b[0;32m   1103\u001b[0m gs \u001b[39m=\u001b[39m \u001b[39mself\u001b[39m\u001b[39m.\u001b[39mmake_globals(\u001b[39mglobals\u001b[39m)\n\u001b[0;32m   1104\u001b[0m \u001b[39mcls\u001b[39m \u001b[39m=\u001b[39m template_class \u001b[39mor\u001b[39;00m \u001b[39mself\u001b[39m\u001b[39m.\u001b[39mtemplate_class\n\u001b[1;32m-> 1105\u001b[0m \u001b[39mreturn\u001b[39;00m \u001b[39mcls\u001b[39;49m\u001b[39m.\u001b[39;49mfrom_code(\u001b[39mself\u001b[39;49m, \u001b[39mself\u001b[39;49m\u001b[39m.\u001b[39;49mcompile(source), gs, \u001b[39mNone\u001b[39;49;00m)\n",
      "File \u001b[1;32mc:\\Users\\eityg\\AppData\\Local\\Programs\\Python\\Python311\\Lib\\site-packages\\jinja2\\environment.py:1210\u001b[0m, in \u001b[0;36mTemplate.from_code\u001b[1;34m(cls, environment, code, globals, uptodate)\u001b[0m\n\u001b[0;32m   1183\u001b[0m     env \u001b[39m=\u001b[39m get_spontaneous_environment(\n\u001b[0;32m   1184\u001b[0m         \u001b[39mcls\u001b[39m\u001b[39m.\u001b[39menvironment_class,  \u001b[39m# type: ignore\u001b[39;00m\n\u001b[0;32m   1185\u001b[0m         block_start_string,\n\u001b[1;32m   (...)\u001b[0m\n\u001b[0;32m   1206\u001b[0m         enable_async,\n\u001b[0;32m   1207\u001b[0m     )\n\u001b[0;32m   1208\u001b[0m     \u001b[39mreturn\u001b[39;00m env\u001b[39m.\u001b[39mfrom_string(source, template_class\u001b[39m=\u001b[39m\u001b[39mcls\u001b[39m)\n\u001b[1;32m-> 1210\u001b[0m \u001b[39m@classmethod\u001b[39m\n\u001b[0;32m   1211\u001b[0m \u001b[39mdef\u001b[39;00m \u001b[39mfrom_code\u001b[39m(\n\u001b[0;32m   1212\u001b[0m     \u001b[39mcls\u001b[39m,\n\u001b[0;32m   1213\u001b[0m     environment: Environment,\n\u001b[0;32m   1214\u001b[0m     code: CodeType,\n\u001b[0;32m   1215\u001b[0m     \u001b[39mglobals\u001b[39m: t\u001b[39m.\u001b[39mMutableMapping[\u001b[39mstr\u001b[39m, t\u001b[39m.\u001b[39mAny],\n\u001b[0;32m   1216\u001b[0m     uptodate: t\u001b[39m.\u001b[39mOptional[t\u001b[39m.\u001b[39mCallable[[], \u001b[39mbool\u001b[39m]] \u001b[39m=\u001b[39m \u001b[39mNone\u001b[39;00m,\n\u001b[0;32m   1217\u001b[0m ) \u001b[39m-\u001b[39m\u001b[39m>\u001b[39m \u001b[39m\"\u001b[39m\u001b[39mTemplate\u001b[39m\u001b[39m\"\u001b[39m:\n\u001b[0;32m   1218\u001b[0m     \u001b[39m\"\"\"Creates a template object from compiled code and the globals.  This\u001b[39;00m\n\u001b[0;32m   1219\u001b[0m \u001b[39m    is used by the loaders and environment to create a template object.\u001b[39;00m\n\u001b[0;32m   1220\u001b[0m \u001b[39m    \"\"\"\u001b[39;00m\n\u001b[0;32m   1221\u001b[0m     namespace \u001b[39m=\u001b[39m {\u001b[39m\"\u001b[39m\u001b[39menvironment\u001b[39m\u001b[39m\"\u001b[39m: environment, \u001b[39m\"\u001b[39m\u001b[39m__file__\u001b[39m\u001b[39m\"\u001b[39m: code\u001b[39m.\u001b[39mco_filename}\n",
      "\u001b[1;31mKeyboardInterrupt\u001b[0m: "
     ]
    }
   ],
   "source": [
    "# Créer un dataframe pour comptabiliser le nombre d'événements par pays et continent\n",
    "events_by_country = geo.groupby(['region_txt', 'country_txt']).size().reset_index(name='count')\n",
    "\n",
    "# Boucle pour créer une carte pour chaque continent\n",
    "for continent in events_by_country['region_txt'].unique():\n",
    "\n",
    "    # Créer un dataframe pour le continent en cours\n",
    "    continent_df = events_by_country[events_by_country['region_txt'] == continent]\n",
    "\n",
    "   # Obtenir les informations de localisation pour chaque pays dans le continent\n",
    "    country_locations = geo.loc[geo['region_txt'] == continent, ['latitude', 'longitude', 'country_txt']].drop_duplicates()\n",
    "\n",
    "    # Créer une carte centrée sur la position moyenne des événements pour ce continent\n",
    "    map = folium.Map(location=[country_locations['latitude'].mean(), country_locations['longitude'].mean()], zoom_start=4)\n",
    "\n",
    "    # Ajouter un marqueur pour chaque pays dans le continent\n",
    "    for index, row in country_locations.iterrows():\n",
    "     folium.Marker(location=[row['latitude'], row['longitude']], popup=row['country_txt'] + ': ' + str(events_by_country[(events_by_country['region_txt'] == continent) & (events_by_country['country_txt'] == row['country_txt'])]['count'].values[0])).add_to(map)\n",
    "\n",
    "    # Enregistrer la carte\n",
    "    map.save(continent + '_events_map.html')"
   ]
  },
  {
   "cell_type": "code",
   "execution_count": null,
   "metadata": {},
   "outputs": [
    {
     "name": "stdout",
     "output_type": "stream",
     "text": [
      "claimed    16.445302\n",
      "dtype: float64\n"
     ]
    }
   ],
   "source": [
    "# On regarde le nombre de d'attentats revendiqués par rapport au nombre total \n",
    "\n",
    "Revendiqué = df[[\"claimed\"]]\n",
    "\n",
    "#On récupère le nombre de ligne ou la colonne \"claimed\" est égale à 1 dans la variable \"count\"\n",
    "\n",
    "count = Revendiqué[Revendiqué.claimed == 1].count()\n",
    "\n",
    "#On récupère le nombre de ligne total dans la variable \"count2\"\n",
    "\n",
    "count2 = Revendiqué.count()\n",
    "\n",
    "#On calcule le pourcentage de ligne ou la colonne \"claimed\" est égale à 1\n",
    "\n",
    "pourcentage = (count/count2)*100\n",
    "\n",
    "print(pourcentage)\n"
   ]
  },
  {
   "cell_type": "code",
   "execution_count": null,
   "metadata": {},
   "outputs": [],
   "source": [
    " # On regarde le nombre d'attentats par année pour voir comment évolue le terrorisme au fil des années\n",
    "\n",
    "#On récupère le nombre d'attentats par année dans la variable \"YearCount\"\n",
    "\n",
    "YearCount = df[[\"eventid\",\"iyear\"]].groupby('iyear').count()\n",
    "\n",
    "# On affiche le nombre d'attentats par année\n"
   ]
  },
  {
   "cell_type": "code",
   "execution_count": 31,
   "metadata": {},
   "outputs": [
    {
     "name": "stderr",
     "output_type": "stream",
     "text": [
      "C:\\Users\\eityg\\AppData\\Local\\Temp\\ipykernel_7572\\2640083051.py:2: SettingWithCopyWarning: \n",
      "A value is trying to be set on a copy of a slice from a DataFrame\n",
      "\n",
      "See the caveats in the documentation: https://pandas.pydata.org/pandas-docs/stable/user_guide/indexing.html#returning-a-view-versus-a-copy\n",
      "  Data['claimed'].fillna(0,inplace=True)\n",
      "C:\\Users\\eityg\\AppData\\Local\\Temp\\ipykernel_7572\\2640083051.py:4: SettingWithCopyWarning: \n",
      "A value is trying to be set on a copy of a slice from a DataFrame\n",
      "\n",
      "See the caveats in the documentation: https://pandas.pydata.org/pandas-docs/stable/user_guide/indexing.html#returning-a-view-versus-a-copy\n",
      "  Data['nperps'].fillna(-99.0,inplace=True)\n",
      "C:\\Users\\eityg\\AppData\\Local\\Temp\\ipykernel_7572\\2640083051.py:6: SettingWithCopyWarning: \n",
      "A value is trying to be set on a copy of a slice from a DataFrame\n",
      "\n",
      "See the caveats in the documentation: https://pandas.pydata.org/pandas-docs/stable/user_guide/indexing.html#returning-a-view-versus-a-copy\n",
      "  Data['nkill'].fillna(-99.0,inplace=True)\n",
      "C:\\Users\\eityg\\AppData\\Local\\Temp\\ipykernel_7572\\2640083051.py:8: SettingWithCopyWarning: \n",
      "A value is trying to be set on a copy of a slice from a DataFrame\n",
      "\n",
      "See the caveats in the documentation: https://pandas.pydata.org/pandas-docs/stable/user_guide/indexing.html#returning-a-view-versus-a-copy\n",
      "  Data['nwound'].fillna(-99.0,inplace=True)\n",
      "C:\\Users\\eityg\\AppData\\Local\\Temp\\ipykernel_7572\\2640083051.py:10: SettingWithCopyWarning: \n",
      "A value is trying to be set on a copy of a slice from a DataFrame\n",
      "\n",
      "See the caveats in the documentation: https://pandas.pydata.org/pandas-docs/stable/user_guide/indexing.html#returning-a-view-versus-a-copy\n",
      "  Data['resolution'].fillna(Data['iday'].astype(str) + \"/\" + Data['imonth'].astype(str) + \"/\" + Data['iyear'].astype(str),inplace=True)\n"
     ]
    }
   ],
   "source": [
    "#On remplace les valeurs vides de la colonne claimed par 0\n",
    "Data['claimed'].fillna(0,inplace=True)\n",
    "#On remplace les valeurs vides de la colonne nperps par \"Inconnu\"\n",
    "Data['nperps'].fillna(-99.0,inplace=True)\n",
    "#On remplace les valeurs vides de la colonne nkill par \"Inconnu\"\n",
    "Data['nkill'].fillna(-99.0,inplace=True)\n",
    "#On remplace les valeurs vides de la colonne nwound par \"Inconnu\"\n",
    "Data['nwound'].fillna(-99.0,inplace=True)\n",
    "#on remplace les valeurs vides de la colonne resolution par la date de l'attentat dans le format \"jour/mois/année\"\n",
    "Data['resolution'].fillna(Data['iday'].astype(str) + \"/\" + Data['imonth'].astype(str) + \"/\" + Data['iyear'].astype(str),inplace=True)\n",
    "\n",
    "Data.to_csv(\"Trait2.csv\")"
   ]
  }
 ],
 "metadata": {
  "kernelspec": {
   "display_name": "Python 3",
   "language": "python",
   "name": "python3"
  },
  "language_info": {
   "codemirror_mode": {
    "name": "ipython",
    "version": 3
   },
   "file_extension": ".py",
   "mimetype": "text/x-python",
   "name": "python",
   "nbconvert_exporter": "python",
   "pygments_lexer": "ipython3",
   "version": "3.11.0"
  },
  "orig_nbformat": 4,
  "vscode": {
   "interpreter": {
    "hash": "211d6f00721faa73739c8552fbb93c7b0db50a8a64fc4250b0f38fa2e7420f95"
   }
  }
 },
 "nbformat": 4,
 "nbformat_minor": 2
}
