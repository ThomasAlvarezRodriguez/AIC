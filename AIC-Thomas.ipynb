{
 "cells": [
  {
   "cell_type": "code",
   "execution_count": 20,
   "metadata": {},
   "outputs": [],
   "source": [
    "#on charge le dataset et on le met dans un dataframe\n",
    "import pandas as pd\n",
    "import numpy as np\n",
    "import matplotlib.pyplot as plt\n",
    "import folium\n",
    "from folium.plugins import HeatMap\n",
    "df = pd.read_csv('Data.csv', sep=',', low_memory=False)"
   ]
  },
  {
   "cell_type": "code",
   "execution_count": 19,
   "metadata": {},
   "outputs": [
    {
     "name": "stderr",
     "output_type": "stream",
     "text": [
      "C:\\Users\\eityg\\AppData\\Local\\Temp\\ipykernel_27228\\2965595529.py:9: SettingWithCopyWarning: \n",
      "A value is trying to be set on a copy of a slice from a DataFrame\n",
      "\n",
      "See the caveats in the documentation: https://pandas.pydata.org/pandas-docs/stable/user_guide/indexing.html#returning-a-view-versus-a-copy\n",
      "  Data['claimed'].fillna(0,inplace=True)\n",
      "C:\\Users\\eityg\\AppData\\Local\\Temp\\ipykernel_27228\\2965595529.py:11: SettingWithCopyWarning: \n",
      "A value is trying to be set on a copy of a slice from a DataFrame\n",
      "\n",
      "See the caveats in the documentation: https://pandas.pydata.org/pandas-docs/stable/user_guide/indexing.html#returning-a-view-versus-a-copy\n",
      "  Data['nperps'].fillna(-99.0,inplace=True)\n",
      "C:\\Users\\eityg\\AppData\\Local\\Temp\\ipykernel_27228\\2965595529.py:13: SettingWithCopyWarning: \n",
      "A value is trying to be set on a copy of a slice from a DataFrame\n",
      "\n",
      "See the caveats in the documentation: https://pandas.pydata.org/pandas-docs/stable/user_guide/indexing.html#returning-a-view-versus-a-copy\n",
      "  Data['nkill'].fillna(-99.0,inplace=True)\n",
      "C:\\Users\\eityg\\AppData\\Local\\Temp\\ipykernel_27228\\2965595529.py:15: SettingWithCopyWarning: \n",
      "A value is trying to be set on a copy of a slice from a DataFrame\n",
      "\n",
      "See the caveats in the documentation: https://pandas.pydata.org/pandas-docs/stable/user_guide/indexing.html#returning-a-view-versus-a-copy\n",
      "  Data['nwound'].fillna(-99.0,inplace=True)\n",
      "C:\\Users\\eityg\\AppData\\Local\\Temp\\ipykernel_27228\\2965595529.py:17: SettingWithCopyWarning: \n",
      "A value is trying to be set on a copy of a slice from a DataFrame\n",
      "\n",
      "See the caveats in the documentation: https://pandas.pydata.org/pandas-docs/stable/user_guide/indexing.html#returning-a-view-versus-a-copy\n",
      "  Data['resolution'].fillna(Data['iday'].astype(str) + \"/\" + Data['imonth'].astype(str) + \"/\" + Data['iyear'].astype(str),inplace=True)\n"
     ]
    }
   ],
   "source": [
    "# On ne peut pas garder toutes les colonnes, un choix s'opère donc. \n",
    "\n",
    "# Nous scindons les colonnes restantes dans plusieurs dataframes :\n",
    "\n",
    "# Data, dataframe général, possédant \"eventid\",\"iyear\",\"imonth\",\"iday\",\"extended\",\"resolution\",\"country_txt\",\"region_txt\",\"provstate\",\"city\",\"success\", \"suicide\",\"attacktype1_txt\", \"targtype1_txt\",\"targsubtype1_txt\",\"natlty1_txt\",\"gname\",\"nperps\",\"claimed\",\"weaptype1_txt\",\"weapsubtype1_txt\",\"nkill\",\"nwound\",\"dbsource\"\n",
    "Data = df[[\"eventid\",\"iyear\",\"imonth\",\"iday\",\"extended\",\"resolution\",\"latitude\", \"longitude\",\"country_txt\",\"region_txt\",\"provstate\",\"city\",\"success\", \"suicide\",\"attacktype1_txt\", \"targtype1_txt\",\"targsubtype1_txt\",\"natlty1_txt\",\"gname\",\"nperps\",\"claimed\",\"weaptype1_txt\",\"weapsubtype1_txt\",\"nkill\",\"nwound\",\"dbsource\"]]\n",
    "\n",
    "#On remplace les valeurs vides de la colonne claimed par 0\n",
    "Data['claimed'].fillna(0,inplace=True)\n",
    "#On remplace les valeurs vides de la colonne nperps par \"Inconnu\"\n",
    "Data['nperps'].fillna(-99.0,inplace=True)\n",
    "#On remplace les valeurs vides de la colonne nkill par \"Inconnu\"\n",
    "Data['nkill'].fillna(-99.0,inplace=True)\n",
    "#On remplace les valeurs vides de la colonne nwound par \"Inconnu\"\n",
    "Data['nwound'].fillna(-99.0,inplace=True)\n",
    "#on remplace les valeurs vides de la colonne resolution par la date de l'attentat dans le format \"jour/mois/année\"\n",
    "Data['resolution'].fillna(Data['iday'].astype(str) + \"/\" + Data['imonth'].astype(str) + \"/\" + Data['iyear'].astype(str),inplace=True)\n",
    "#On drop les coordonnées null\n",
    "Data = Data.dropna(subset=['latitude', 'longitude'])\n",
    "\n",
    "Data.to_csv(\"Trait2.csv\")\n",
    "\n",
    "Trait = pd.read_csv('Trait2.csv', sep=',', low_memory=False)"
   ]
  },
  {
   "cell_type": "code",
   "execution_count": 13,
   "metadata": {},
   "outputs": [],
   "source": [
    "#geoFull correspond au dataframe geo, mais avec les valeurs nulles enlevées\n",
    "\n",
    "geoFull = df[[\"eventid\", \"latitude\", \"longitude\"]].dropna()\n",
    "\n",
    "geoFull.to_csv(\"Geo.csv\")"
   ]
  },
  {
   "cell_type": "code",
   "execution_count": 5,
   "metadata": {},
   "outputs": [],
   "source": [
    "#headlines, dataframe comprenant les descriptions. \"eventid\",\"summary\"\n",
    "headlines = df[[\"eventid\",\"summary\"]]"
   ]
  },
  {
   "attachments": {},
   "cell_type": "markdown",
   "metadata": {},
   "source": [
    "On va tester les données géographiques avec le dataframe geo"
   ]
  },
  {
   "cell_type": "code",
   "execution_count": 16,
   "metadata": {},
   "outputs": [
    {
     "name": "stdout",
     "output_type": "stream",
     "text": [
      "claimed    16.445302\n",
      "dtype: float64\n"
     ]
    }
   ],
   "source": [
    "# On regarde le nombre de d'attentats revendiqués par rapport au nombre total \n",
    "\n",
    "Revendiqué = df[[\"claimed\"]]\n",
    "\n",
    "#On récupère le nombre de ligne ou la colonne \"claimed\" est égale à 1 dans la variable \"count\"\n",
    "\n",
    "count = Revendiqué[Revendiqué.claimed == 1].count()\n",
    "\n",
    "#On récupère le nombre de ligne total dans la variable \"count2\"\n",
    "\n",
    "count2 = Revendiqué.count()\n",
    "\n",
    "#On calcule le pourcentage de ligne ou la colonne \"claimed\" est égale à 1\n",
    "\n",
    "pourcentage = (count/count2)*100\n",
    "\n",
    "print(pourcentage)\n"
   ]
  },
  {
   "cell_type": "code",
   "execution_count": 4,
   "metadata": {},
   "outputs": [],
   "source": [
    " # On regarde le nombre d'attentats par année pour voir comment évolue le terrorisme au fil des années\n",
    "\n",
    "#On récupère le nombre d'attentats par année dans la variable \"YearCount\"\n",
    "\n",
    "YearCount = df[[\"eventid\",\"iyear\"]].groupby('iyear').count()"
   ]
  },
  {
   "cell_type": "code",
   "execution_count": 21,
   "metadata": {},
   "outputs": [],
   "source": [
    "def create_heatmap_for_region(region_data, region_name):\n",
    "    # Créer une carte centrée sur les coordonnées moyennes de la région\n",
    "    map_center = [region_data['latitude'].mean(), region_data['longitude'].mean()]\n",
    "    region_map = folium.Map(location=map_center, zoom_start=4)\n",
    "\n",
    "    # Préparez les données pour la heatmap\n",
    "    heat_data = [[row['latitude'], row['longitude']] for index, row in region_data.iterrows()]\n",
    "\n",
    "    # Ajoutez la heatmap à la carte\n",
    "    HeatMap(heat_data).add_to(region_map)\n",
    "\n",
    "    # Sauvegarder la heatmap dans un fichier HTML\n",
    "    region_map.save(f'{region_name}_heatmap.html')\n",
    "\n",
    "    print(f'{region_name} heatmap created')\n"
   ]
  },
  {
   "cell_type": "code",
   "execution_count": 22,
   "metadata": {},
   "outputs": [
    {
     "name": "stdout",
     "output_type": "stream",
     "text": [
      "Central America & Caribbean heatmap created\n",
      "North America heatmap created\n",
      "Southeast Asia heatmap created\n",
      "Western Europe heatmap created\n",
      "East Asia heatmap created\n",
      "South America heatmap created\n",
      "Eastern Europe heatmap created\n",
      "Middle East & North Africa heatmap created\n",
      "Australasia & Oceania heatmap created\n",
      "South Asia heatmap created\n",
      "Sub-Saharan Africa heatmap created\n",
      "Central Asia heatmap created\n"
     ]
    }
   ],
   "source": [
    "regions = Trait['region_txt'].unique()\n",
    "for region in regions:\n",
    "    region_data = Trait[Trait['region_txt'] == region]\n",
    "    create_heatmap_for_region(region_data, region)\n"
   ]
  },
  {
   "cell_type": "code",
   "execution_count": null,
   "metadata": {},
   "outputs": [],
   "source": [
    "\n",
    "\n"
   ]
  }
 ],
 "metadata": {
  "kernelspec": {
   "display_name": "Python 3",
   "language": "python",
   "name": "python3"
  },
  "language_info": {
   "codemirror_mode": {
    "name": "ipython",
    "version": 3
   },
   "file_extension": ".py",
   "mimetype": "text/x-python",
   "name": "python",
   "nbconvert_exporter": "python",
   "pygments_lexer": "ipython3",
   "version": "3.11.2"
  },
  "orig_nbformat": 4,
  "vscode": {
   "interpreter": {
    "hash": "211d6f00721faa73739c8552fbb93c7b0db50a8a64fc4250b0f38fa2e7420f95"
   }
  }
 },
 "nbformat": 4,
 "nbformat_minor": 2
}
