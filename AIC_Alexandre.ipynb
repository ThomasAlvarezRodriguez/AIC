{
 "cells": [
  {
   "attachments": {},
   "cell_type": "markdown",
   "metadata": {},
   "source": [
    "# Premier traitement des données, création des cartes et quelques analyses\n",
    "\n",
    "Importation des librairies nécessaires et des données"
   ]
  },
  {
   "cell_type": "code",
   "execution_count": 25,
   "metadata": {},
   "outputs": [],
   "source": [
    "#on charge le dataset et on le met dans un dataframe\n",
    "import pandas as pd\n",
    "import numpy as np\n",
    "import matplotlib.pyplot as plt\n",
    "pd.options.mode.chained_assignment = None\n",
    "from folium.plugins import HeatMap, MarkerCluster, FeatureGroupSubGroup\n",
    "import folium\n",
    "df = pd.read_csv('Data.csv', sep=',', low_memory=False)"
   ]
  },
  {
   "attachments": {},
   "cell_type": "markdown",
   "metadata": {},
   "source": [
    "Création des différents dataframes qui vont nous servir pour les analyses"
   ]
  },
  {
   "cell_type": "code",
   "execution_count": 38,
   "metadata": {},
   "outputs": [],
   "source": [
    "# On ne peut pas garder toutes les colonnes, un choix s'opère donc. On garde les colonnes qui nous semblent les plus pertinentes pour notre étude.\n",
    "# Data, dataframe général, possédant \"eventid\",\"latitude\",\"longitude\",\"iyear\",\"imonth\",\"iday\",\"extended\",\"resolution\",\"country_txt\",\"region_txt\",\"provstate\",\"city\",\"success\", \"suicide\",\"attacktype1_txt\", \"targtype1_txt\",\"targsubtype1_txt\",\"natlty1_txt\",\"gname\",\"nperps\",\"claimed\",\"weaptype1_txt\",\"weapsubtype1_txt\",\"nkill\",\"nwound\",\"dbsource\"\n",
    "Data = df[[\"eventid\",\"iyear\",\"imonth\",\"latitude\",\"longitude\",\"iday\",\"extended\",\"resolution\",\"country_txt\",\"region_txt\",\"provstate\",\"city\",\"success\", \"suicide\",\"attacktype1_txt\", \"targtype1_txt\",\"targsubtype1_txt\",\"natlty1_txt\",\"gname\",\"nperps\",\"claimed\",\"weaptype1_txt\",\"weapsubtype1_txt\",\"nkill\",\"nwound\",\"dbsource\"]]\n",
    "\n",
    "#on remplace les valeurs vides de la colonne resolution par la date de l'attentat dans le format \"jour/mois/année\"\n",
    "Data['resolution'].fillna(Data['iday'].astype(str) + \"/\" + Data['imonth'].astype(str) + \"/\" + Data['iyear'].astype(str),inplace=True)\n",
    "\n",
    "Data = Data.dropna(subset=['latitude', 'longitude'])\n",
    "\n",
    "Data.to_csv(\"Trait2.csv\")"
   ]
  },
  {
   "cell_type": "code",
   "execution_count": 27,
   "metadata": {},
   "outputs": [],
   "source": [
    "# geo, dataframe ayant pour but la géolocalisation, comprenant \"eventid\", \"latitude\", \"longitude\",\"region_txt\",\"country_txt\"\n",
    "geo = df[[\"eventid\", \"latitude\", \"longitude\",\"region_txt\",\"country_txt\"]].dropna()\n",
    "\n",
    "geo.to_csv(\"Geo.csv\")"
   ]
  },
  {
   "cell_type": "code",
   "execution_count": 28,
   "metadata": {},
   "outputs": [],
   "source": [
    "#headlines, dataframe comprenant les descriptions. \"eventid\",\"summary\"\n",
    "headlines = df[[\"eventid\",\"summary\"]]"
   ]
  },
  {
   "attachments": {},
   "cell_type": "markdown",
   "metadata": {},
   "source": [
    "Première analyse des données fonctionnelle"
   ]
  },
  {
   "cell_type": "code",
   "execution_count": 29,
   "metadata": {},
   "outputs": [
    {
     "name": "stdout",
     "output_type": "stream",
     "text": [
      "claimed    16.445302\n",
      "dtype: float64\n"
     ]
    }
   ],
   "source": [
    "# On regarde le nombre de d'attentats revendiqués par rapport au nombre total \n",
    "\n",
    "Revendiqué = df[[\"claimed\"]]\n",
    "\n",
    "#On récupère le nombre de ligne ou la colonne \"claimed\" est égale à 1 dans la variable \"count\"\n",
    "\n",
    "count = Revendiqué[Revendiqué.claimed == 1].count()\n",
    "\n",
    "#On récupère le nombre de ligne total dans la variable \"count2\"\n",
    "\n",
    "count2 = Revendiqué.count()\n",
    "\n",
    "#On calcule le pourcentage de ligne ou la colonne \"claimed\" est égale à 1\n",
    "\n",
    "pourcentage = (count/count2)*100\n",
    "\n",
    "print(pourcentage)\n"
   ]
  },
  {
   "attachments": {},
   "cell_type": "markdown",
   "metadata": {},
   "source": [
    "Visualisation graphique "
   ]
  },
  {
   "cell_type": "code",
   "execution_count": 30,
   "metadata": {},
   "outputs": [
    {
     "data": {
      "text/plain": [
       "<Axes: xlabel='iyear'>"
      ]
     },
     "execution_count": 30,
     "metadata": {},
     "output_type": "execute_result"
    },
    {
     "data": {
      "image/png": "[encoded data removed]",
      "text/plain": [
       "<Figure size 640x480 with 1 Axes>"
      ]
     },
     "metadata": {},
     "output_type": "display_data"
    }
   ],
   "source": [
    " # On regarde le nombre d'attentats par année pour voir comment évolue le terrorisme au fil des années\n",
    "\n",
    "#On récupère le nombre d'attentats par année dans la variable \"YearCount\"\n",
    "\n",
    "YearCount = df[[\"eventid\",\"iyear\"]].groupby('iyear').count()\n",
    "\n",
    "#On affiche le bar chart du nombre d'attentats par année\n",
    "\n",
    "YearCount.plot.bar()"
   ]
  },
  {
   "attachments": {},
   "cell_type": "markdown",
   "metadata": {},
   "source": [
    "Carte rassemblant tous les attentats en clusters (cartouche à exécution longue)"
   ]
  },
  {
   "cell_type": "code",
   "execution_count": 31,
   "metadata": {},
   "outputs": [],
   "source": [
    "\n",
    "\n",
    "# créer la carte centrée sur la position moyenne des événements\n",
    "map = folium.Map(location=[geo['latitude'].mean(), geo['longitude'].mean()], zoom_start=4)\n",
    "\n",
    "# créer un groupe de marqueurs clusterisés\n",
    "marker_cluster = MarkerCluster().add_to(map)\n",
    "\n",
    "# ajouter un marqueur pour chaque événement dans le groupe de marqueurs clusterisés\n",
    "for index, row in geo.iterrows():\n",
    "    folium.Marker(location=[row['latitude'], row['longitude']]).add_to(marker_cluster)\n",
    "\n",
    "# créer un groupe pour afficher le nombre de marqueurs dans chaque cluster\n",
    "sub_group = folium.plugins.FeatureGroupSubGroup(marker_cluster, 'Events Count')\n",
    "\n",
    "# ajouter le groupe à la carte\n",
    "map.add_child(sub_group)\n",
    "\n",
    "# ajouter un compteur pour chaque cluster\n",
    "for i, layer in enumerate(marker_cluster._children.values()):\n",
    "    count = len(layer._children)\n",
    "    bounds = layer.get_bounds()\n",
    "    pos = [(bounds[0][0] + bounds[1][0]) / 2, (bounds[0][1] + bounds[1][1]) / 2]\n",
    "    folium.Marker(location=pos, icon=folium.Icon(icon='info-sign'), tooltip=str(count)).add_to(sub_group)\n",
    "\n",
    "map.save(\"CarteGenerale.html\")"
   ]
  },
  {
   "attachments": {},
   "cell_type": "markdown",
   "metadata": {},
   "source": [
    "Heatmaps par continent"
   ]
  },
  {
   "cell_type": "code",
   "execution_count": 32,
   "metadata": {},
   "outputs": [],
   "source": [
    "def create_heatmap_for_region(region_data, region_name):\n",
    "    # Créer une carte centrée sur les coordonnées moyennes de la région\n",
    "    map_center = [region_data['latitude'].mean(), region_data['longitude'].mean()]\n",
    "    region_map = folium.Map(location=map_center, zoom_start=4)\n",
    "\n",
    "    # Préparez les données pour la heatmap\n",
    "    heat_data = [[row['latitude'], row['longitude']] for index, row in region_data.iterrows()]\n",
    "\n",
    "    # Ajoutez la heatmap à la carte\n",
    "    HeatMap(heat_data).add_to(region_map)\n",
    "\n",
    "    # Sauvegarder la heatmap dans un fichier HTML\n",
    "    region_map.save(f'{region_name}_heatmap.html')\n",
    "\n",
    "    print(f'{region_name} heatmap created')\n"
   ]
  },
  {
   "cell_type": "code",
   "execution_count": 33,
   "metadata": {},
   "outputs": [
    {
     "name": "stdout",
     "output_type": "stream",
     "text": [
      "Central America & Caribbean heatmap created\n",
      "North America heatmap created\n",
      "Southeast Asia heatmap created\n",
      "Western Europe heatmap created\n",
      "East Asia heatmap created\n",
      "South America heatmap created\n",
      "Eastern Europe heatmap created\n",
      "Middle East & North Africa heatmap created\n",
      "Australasia & Oceania heatmap created\n",
      "South Asia heatmap created\n",
      "Sub-Saharan Africa heatmap created\n",
      "Central Asia heatmap created\n"
     ]
    }
   ],
   "source": [
    "regions = geo['region_txt'].unique()\n",
    "for region in regions:\n",
    "    region_data = geo[geo['region_txt'] == region]\n",
    "    create_heatmap_for_region(region_data, region)\n"
   ]
  },
  {
   "attachments": {},
   "cell_type": "markdown",
   "metadata": {},
   "source": [
    "Cartes des attentats par continent (exécution longue)"
   ]
  },
  {
   "cell_type": "code",
   "execution_count": 40,
   "metadata": {},
   "outputs": [],
   "source": [
    "# Crée une carte par continent, visant à afficher chaque attentat et son nombre de victimes en cliquant dessus\n",
    "def create_map_for_region(region_data, region_name):\n",
    "    # Crée une carte centrée sur les coordonnées moyennes de la région\n",
    "    map_center = [region_data['latitude'].mean(), region_data['longitude'].mean()]\n",
    "    region_map = folium.Map(location=map_center, zoom_start=4)\n",
    "\n",
    "    # Ajoute un marqueur pour chaque événement\n",
    "    for index, row in region_data.iterrows():\n",
    "        folium.Marker(location=[row['latitude'], row['longitude']],\n",
    "                      popup=f'Victims: {row[\"nkill\"] + row[\"nwound\"]}').add_to(region_map)\n",
    "\n",
    "    # Sauvegarde la carte dans un fichier HTML\n",
    "    region_map.save(f'{region_name}_map.html')\n",
    "\n",
    "    print(f'{region_name} map created')\n"
   ]
  },
  {
   "cell_type": "code",
   "execution_count": 41,
   "metadata": {},
   "outputs": [
    {
     "name": "stdout",
     "output_type": "stream",
     "text": [
      "Central America & Caribbean map created\n",
      "North America map created\n",
      "Southeast Asia map created\n",
      "Western Europe map created\n",
      "East Asia map created\n",
      "South America map created\n",
      "Eastern Europe map created\n",
      "Middle East & North Africa map created\n",
      "Australasia & Oceania map created\n",
      "South Asia map created\n",
      "Sub-Saharan Africa map created\n",
      "Central Asia map created\n"
     ]
    }
   ],
   "source": [
    "regions = Data['region_txt'].unique()\n",
    "for region in regions:\n",
    "    region_data = Data[Data['region_txt'] == region]\n",
    "    create_map_for_region(region_data, region)\n"
   ]
  }
 ],
 "metadata": {
  "kernelspec": {
   "display_name": "Python 3",
   "language": "python",
   "name": "python3"
  },
  "language_info": {
   "codemirror_mode": {
    "name": "ipython",
    "version": 3
   },
   "file_extension": ".py",
   "mimetype": "text/x-python",
   "name": "python",
   "nbconvert_exporter": "python",
   "pygments_lexer": "ipython3",
   "version": "3.10.7"
  },
  "orig_nbformat": 4
 },
 "nbformat": 4,
 "nbformat_minor": 2
}
