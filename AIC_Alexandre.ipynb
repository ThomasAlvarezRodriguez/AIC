{
 "cells": [
  {
   "cell_type": "code",
   "execution_count": 56,
   "metadata": {},
   "outputs": [],
   "source": [
    "#on charge le dataset et on le met dans un dataframe\n",
    "import pandas as pd\n",
    "import numpy as np\n",
    "import matplotlib.pyplot as plt\n",
    "pd.options.mode.chained_assignment = None\n",
    "\n",
    "df = pd.read_csv('Data.csv', sep=',', low_memory=False)\n",
    "\n"
   ]
  },
  {
   "cell_type": "code",
   "execution_count": 57,
   "metadata": {},
   "outputs": [],
   "source": [
    "# On ne peut pas garder toutes les colonnes, un choix s'opère donc. \n",
    "\n",
    "# Nous scindons les colonnes restantes dans plusieurs dataframes :\n",
    "\n",
    "# Data, dataframe général, possédant \"eventid\",\"iyear\",\"imonth\",\"iday\",\"extended\",\"resolution\",\"country_txt\",\"region_txt\",\"provstate\",\"city\",\"success\", \"suicide\",\"attacktype1_txt\", \"targtype1_txt\",\"targsubtype1_txt\",\"natlty1_txt\",\"gname\",\"nperps\",\"claimed\",\"weaptype1_txt\",\"weapsubtype1_txt\",\"nkill\",\"nwound\",\"dbsource\"\n",
    "Data = df[[\"eventid\",\"iyear\",\"imonth\",\"iday\",\"extended\",\"resolution\",\"country_txt\",\"region_txt\",\"provstate\",\"city\",\"success\", \"suicide\",\"attacktype1_txt\", \"targtype1_txt\",\"targsubtype1_txt\",\"natlty1_txt\",\"gname\",\"nperps\",\"claimed\",\"weaptype1_txt\",\"weapsubtype1_txt\",\"nkill\",\"nwound\",\"dbsource\"]]\n",
    "\n"
   ]
  },
  {
   "cell_type": "code",
   "execution_count": 58,
   "metadata": {},
   "outputs": [],
   "source": [
    "# geo, dataframe ayant pour but la géolocalisation, comprenant \"eventid\", \"latitude\", \"longitude\",\"region_txt\",\"country_txt\"\n",
    "geo = df[[\"eventid\", \"latitude\", \"longitude\",\"region_txt\",\"country_txt\"]].dropna()\n",
    "\n",
    "geo.to_csv(\"Geo.csv\")"
   ]
  },
  {
   "cell_type": "code",
   "execution_count": 59,
   "metadata": {},
   "outputs": [],
   "source": [
    "#headlines, dataframe comprenant les descriptions. \"eventid\",\"summary\"\n",
    "headlines = df[[\"eventid\",\"summary\"]]"
   ]
  },
  {
   "attachments": {},
   "cell_type": "markdown",
   "metadata": {},
   "source": [
    "On va tester les données géographiques avec le dataframe geo"
   ]
  },
  {
   "cell_type": "code",
   "execution_count": 60,
   "metadata": {},
   "outputs": [
    {
     "data": {
      "text/html": [
       "<div>\n",
       "<style scoped>\n",
       "    .dataframe tbody tr th:only-of-type {\n",
       "        vertical-align: middle;\n",
       "    }\n",
       "\n",
       "    .dataframe tbody tr th {\n",
       "        vertical-align: top;\n",
       "    }\n",
       "\n",
       "    .dataframe thead th {\n",
       "        text-align: right;\n",
       "    }\n",
       "</style>\n",
       "<table border=\"1\" class=\"dataframe\">\n",
       "  <thead>\n",
       "    <tr style=\"text-align: right;\">\n",
       "      <th></th>\n",
       "      <th>eventid</th>\n",
       "      <th>latitude</th>\n",
       "      <th>longitude</th>\n",
       "    </tr>\n",
       "  </thead>\n",
       "  <tbody>\n",
       "    <tr>\n",
       "      <th>count</th>\n",
       "      <td>1.771340e+05</td>\n",
       "      <td>177134.000000</td>\n",
       "      <td>1.771340e+05</td>\n",
       "    </tr>\n",
       "    <tr>\n",
       "      <th>mean</th>\n",
       "      <td>2.002979e+11</td>\n",
       "      <td>23.498444</td>\n",
       "      <td>-4.586957e+02</td>\n",
       "    </tr>\n",
       "    <tr>\n",
       "      <th>std</th>\n",
       "      <td>1.321102e+09</td>\n",
       "      <td>18.569247</td>\n",
       "      <td>2.047790e+05</td>\n",
       "    </tr>\n",
       "    <tr>\n",
       "      <th>min</th>\n",
       "      <td>1.970000e+11</td>\n",
       "      <td>-53.154613</td>\n",
       "      <td>-8.618590e+07</td>\n",
       "    </tr>\n",
       "    <tr>\n",
       "      <th>25%</th>\n",
       "      <td>1.991061e+11</td>\n",
       "      <td>11.510545</td>\n",
       "      <td>4.545640e+00</td>\n",
       "    </tr>\n",
       "    <tr>\n",
       "      <th>50%</th>\n",
       "      <td>2.009070e+11</td>\n",
       "      <td>31.467463</td>\n",
       "      <td>4.324651e+01</td>\n",
       "    </tr>\n",
       "    <tr>\n",
       "      <th>75%</th>\n",
       "      <td>2.014083e+11</td>\n",
       "      <td>34.685087</td>\n",
       "      <td>6.871033e+01</td>\n",
       "    </tr>\n",
       "    <tr>\n",
       "      <th>max</th>\n",
       "      <td>2.017123e+11</td>\n",
       "      <td>74.633553</td>\n",
       "      <td>1.793667e+02</td>\n",
       "    </tr>\n",
       "  </tbody>\n",
       "</table>\n",
       "</div>"
      ],
      "text/plain": [
       "            eventid       latitude     longitude\n",
       "count  1.771340e+05  177134.000000  1.771340e+05\n",
       "mean   2.002979e+11      23.498444 -4.586957e+02\n",
       "std    1.321102e+09      18.569247  2.047790e+05\n",
       "min    1.970000e+11     -53.154613 -8.618590e+07\n",
       "25%    1.991061e+11      11.510545  4.545640e+00\n",
       "50%    2.009070e+11      31.467463  4.324651e+01\n",
       "75%    2.014083e+11      34.685087  6.871033e+01\n",
       "max    2.017123e+11      74.633553  1.793667e+02"
      ]
     },
     "execution_count": 60,
     "metadata": {},
     "output_type": "execute_result"
    }
   ],
   "source": [
    "geo.describe()"
   ]
  },
  {
   "cell_type": "code",
   "execution_count": 61,
   "metadata": {},
   "outputs": [
    {
     "ename": "KeyboardInterrupt",
     "evalue": "",
     "output_type": "error",
     "traceback": [
      "\u001b[1;31m---------------------------------------------------------------------------\u001b[0m",
      "\u001b[1;31mKeyboardInterrupt\u001b[0m                         Traceback (most recent call last)",
      "Cell \u001b[1;32mIn[61], line 27\u001b[0m\n\u001b[0;32m     24\u001b[0m     pos \u001b[39m=\u001b[39m [(bounds[\u001b[39m0\u001b[39m][\u001b[39m0\u001b[39m] \u001b[39m+\u001b[39m bounds[\u001b[39m1\u001b[39m][\u001b[39m0\u001b[39m]) \u001b[39m/\u001b[39m \u001b[39m2\u001b[39m, (bounds[\u001b[39m0\u001b[39m][\u001b[39m1\u001b[39m] \u001b[39m+\u001b[39m bounds[\u001b[39m1\u001b[39m][\u001b[39m1\u001b[39m]) \u001b[39m/\u001b[39m \u001b[39m2\u001b[39m]\n\u001b[0;32m     25\u001b[0m     folium\u001b[39m.\u001b[39mMarker(location\u001b[39m=\u001b[39mpos, icon\u001b[39m=\u001b[39mfolium\u001b[39m.\u001b[39mIcon(icon\u001b[39m=\u001b[39m\u001b[39m'\u001b[39m\u001b[39minfo-sign\u001b[39m\u001b[39m'\u001b[39m), tooltip\u001b[39m=\u001b[39m\u001b[39mstr\u001b[39m(count))\u001b[39m.\u001b[39madd_to(sub_group)\n\u001b[1;32m---> 27\u001b[0m \u001b[39mmap\u001b[39;49m\u001b[39m.\u001b[39;49msave(\u001b[39m\"\u001b[39;49m\u001b[39mcarte.html\u001b[39;49m\u001b[39m\"\u001b[39;49m)\n",
      "File \u001b[1;32mc:\\Users\\diasa\\AppData\\Local\\Programs\\Python\\Python310\\lib\\site-packages\\branca\\element.py:184\u001b[0m, in \u001b[0;36mElement.save\u001b[1;34m(self, outfile, close_file, **kwargs)\u001b[0m\n\u001b[0;32m    181\u001b[0m     fid \u001b[39m=\u001b[39m outfile\n\u001b[0;32m    183\u001b[0m root \u001b[39m=\u001b[39m \u001b[39mself\u001b[39m\u001b[39m.\u001b[39mget_root()\n\u001b[1;32m--> 184\u001b[0m html \u001b[39m=\u001b[39m root\u001b[39m.\u001b[39mrender(\u001b[39m*\u001b[39m\u001b[39m*\u001b[39mkwargs)\n\u001b[0;32m    185\u001b[0m fid\u001b[39m.\u001b[39mwrite(html\u001b[39m.\u001b[39mencode(\u001b[39m'\u001b[39m\u001b[39mutf8\u001b[39m\u001b[39m'\u001b[39m))\n\u001b[0;32m    186\u001b[0m \u001b[39mif\u001b[39;00m close_file:\n",
      "File \u001b[1;32mc:\\Users\\diasa\\AppData\\Local\\Programs\\Python\\Python310\\lib\\site-packages\\branca\\element.py:338\u001b[0m, in \u001b[0;36mFigure.render\u001b[1;34m(self, **kwargs)\u001b[0m\n\u001b[0;32m    336\u001b[0m \u001b[39m\u001b[39m\u001b[39m\"\"\"Renders the HTML representation of the element.\"\"\"\u001b[39;00m\n\u001b[0;32m    337\u001b[0m \u001b[39mfor\u001b[39;00m name, child \u001b[39min\u001b[39;00m \u001b[39mself\u001b[39m\u001b[39m.\u001b[39m_children\u001b[39m.\u001b[39mitems():\n\u001b[1;32m--> 338\u001b[0m     child\u001b[39m.\u001b[39mrender(\u001b[39m*\u001b[39m\u001b[39m*\u001b[39mkwargs)\n\u001b[0;32m    339\u001b[0m \u001b[39mreturn\u001b[39;00m \u001b[39mself\u001b[39m\u001b[39m.\u001b[39m_template\u001b[39m.\u001b[39mrender(this\u001b[39m=\u001b[39m\u001b[39mself\u001b[39m, kwargs\u001b[39m=\u001b[39mkwargs)\n",
      "File \u001b[1;32mc:\\Users\\diasa\\AppData\\Local\\Programs\\Python\\Python310\\lib\\site-packages\\folium\\folium.py:401\u001b[0m, in \u001b[0;36mMap.render\u001b[1;34m(self, **kwargs)\u001b[0m\n\u001b[0;32m    374\u001b[0m figure\u001b[39m.\u001b[39mheader\u001b[39m.\u001b[39madd_child(\n\u001b[0;32m    375\u001b[0m     Element(\n\u001b[0;32m    376\u001b[0m         \u001b[39m\"\u001b[39m\u001b[39m<style>html, body \u001b[39m\u001b[39m{\u001b[39m\u001b[39m\"\u001b[39m\n\u001b[1;32m   (...)\u001b[0m\n\u001b[0;32m    384\u001b[0m     name\u001b[39m=\u001b[39m\u001b[39m\"\u001b[39m\u001b[39mcss_style\u001b[39m\u001b[39m\"\u001b[39m,\n\u001b[0;32m    385\u001b[0m )\n\u001b[0;32m    387\u001b[0m figure\u001b[39m.\u001b[39mheader\u001b[39m.\u001b[39madd_child(\n\u001b[0;32m    388\u001b[0m     Element(\n\u001b[0;32m    389\u001b[0m         \u001b[39m\"\u001b[39m\u001b[39m<style>#map \u001b[39m\u001b[39m{\u001b[39m\u001b[39m\"\u001b[39m\n\u001b[1;32m   (...)\u001b[0m\n\u001b[0;32m    398\u001b[0m     name\u001b[39m=\u001b[39m\u001b[39m\"\u001b[39m\u001b[39mmap_style\u001b[39m\u001b[39m\"\u001b[39m,\n\u001b[0;32m    399\u001b[0m )\n\u001b[1;32m--> 401\u001b[0m \u001b[39msuper\u001b[39m()\u001b[39m.\u001b[39mrender(\u001b[39m*\u001b[39m\u001b[39m*\u001b[39mkwargs)\n",
      "File \u001b[1;32mc:\\Users\\diasa\\AppData\\Local\\Programs\\Python\\Python310\\lib\\site-packages\\folium\\elements.py:22\u001b[0m, in \u001b[0;36mJSCSSMixin.render\u001b[1;34m(self, **kwargs)\u001b[0m\n\u001b[0;32m     19\u001b[0m \u001b[39mfor\u001b[39;00m name, url \u001b[39min\u001b[39;00m \u001b[39mself\u001b[39m\u001b[39m.\u001b[39mdefault_css:\n\u001b[0;32m     20\u001b[0m     figure\u001b[39m.\u001b[39mheader\u001b[39m.\u001b[39madd_child(CssLink(url), name\u001b[39m=\u001b[39mname)\n\u001b[1;32m---> 22\u001b[0m \u001b[39msuper\u001b[39m()\u001b[39m.\u001b[39mrender(\u001b[39m*\u001b[39m\u001b[39m*\u001b[39mkwargs)\n",
      "File \u001b[1;32mc:\\Users\\diasa\\AppData\\Local\\Programs\\Python\\Python310\\lib\\site-packages\\branca\\element.py:645\u001b[0m, in \u001b[0;36mMacroElement.render\u001b[1;34m(self, **kwargs)\u001b[0m\n\u001b[0;32m    641\u001b[0m     figure\u001b[39m.\u001b[39mscript\u001b[39m.\u001b[39madd_child(Element(script(\u001b[39mself\u001b[39m, kwargs)),\n\u001b[0;32m    642\u001b[0m                             name\u001b[39m=\u001b[39m\u001b[39mself\u001b[39m\u001b[39m.\u001b[39mget_name())\n\u001b[0;32m    644\u001b[0m \u001b[39mfor\u001b[39;00m name, element \u001b[39min\u001b[39;00m \u001b[39mself\u001b[39m\u001b[39m.\u001b[39m_children\u001b[39m.\u001b[39mitems():\n\u001b[1;32m--> 645\u001b[0m     element\u001b[39m.\u001b[39mrender(\u001b[39m*\u001b[39m\u001b[39m*\u001b[39mkwargs)\n",
      "File \u001b[1;32mc:\\Users\\diasa\\AppData\\Local\\Programs\\Python\\Python310\\lib\\site-packages\\folium\\elements.py:22\u001b[0m, in \u001b[0;36mJSCSSMixin.render\u001b[1;34m(self, **kwargs)\u001b[0m\n\u001b[0;32m     19\u001b[0m \u001b[39mfor\u001b[39;00m name, url \u001b[39min\u001b[39;00m \u001b[39mself\u001b[39m\u001b[39m.\u001b[39mdefault_css:\n\u001b[0;32m     20\u001b[0m     figure\u001b[39m.\u001b[39mheader\u001b[39m.\u001b[39madd_child(CssLink(url), name\u001b[39m=\u001b[39mname)\n\u001b[1;32m---> 22\u001b[0m \u001b[39msuper\u001b[39m()\u001b[39m.\u001b[39mrender(\u001b[39m*\u001b[39m\u001b[39m*\u001b[39mkwargs)\n",
      "File \u001b[1;32mc:\\Users\\diasa\\AppData\\Local\\Programs\\Python\\Python310\\lib\\site-packages\\branca\\element.py:645\u001b[0m, in \u001b[0;36mMacroElement.render\u001b[1;34m(self, **kwargs)\u001b[0m\n\u001b[0;32m    641\u001b[0m     figure\u001b[39m.\u001b[39mscript\u001b[39m.\u001b[39madd_child(Element(script(\u001b[39mself\u001b[39m, kwargs)),\n\u001b[0;32m    642\u001b[0m                             name\u001b[39m=\u001b[39m\u001b[39mself\u001b[39m\u001b[39m.\u001b[39mget_name())\n\u001b[0;32m    644\u001b[0m \u001b[39mfor\u001b[39;00m name, element \u001b[39min\u001b[39;00m \u001b[39mself\u001b[39m\u001b[39m.\u001b[39m_children\u001b[39m.\u001b[39mitems():\n\u001b[1;32m--> 645\u001b[0m     element\u001b[39m.\u001b[39mrender(\u001b[39m*\u001b[39m\u001b[39m*\u001b[39mkwargs)\n",
      "File \u001b[1;32mc:\\Users\\diasa\\AppData\\Local\\Programs\\Python\\Python310\\lib\\site-packages\\folium\\map.py:354\u001b[0m, in \u001b[0;36mMarker.render\u001b[1;34m(self)\u001b[0m\n\u001b[0;32m    348\u001b[0m \u001b[39mif\u001b[39;00m \u001b[39mself\u001b[39m\u001b[39m.\u001b[39mlocation \u001b[39mis\u001b[39;00m \u001b[39mNone\u001b[39;00m:\n\u001b[0;32m    349\u001b[0m     \u001b[39mraise\u001b[39;00m \u001b[39mValueError\u001b[39;00m(\n\u001b[0;32m    350\u001b[0m         \u001b[39m\"\u001b[39m\u001b[39m{}\u001b[39;00m\u001b[39m location must be assigned when added directly to map.\u001b[39m\u001b[39m\"\u001b[39m\u001b[39m.\u001b[39mformat(\n\u001b[0;32m    351\u001b[0m             \u001b[39mself\u001b[39m\u001b[39m.\u001b[39m_name\n\u001b[0;32m    352\u001b[0m         )\n\u001b[0;32m    353\u001b[0m     )\n\u001b[1;32m--> 354\u001b[0m \u001b[39msuper\u001b[39;49m()\u001b[39m.\u001b[39;49mrender()\n",
      "File \u001b[1;32mc:\\Users\\diasa\\AppData\\Local\\Programs\\Python\\Python310\\lib\\site-packages\\branca\\element.py:641\u001b[0m, in \u001b[0;36mMacroElement.render\u001b[1;34m(self, **kwargs)\u001b[0m\n\u001b[0;32m    639\u001b[0m script \u001b[39m=\u001b[39m \u001b[39mself\u001b[39m\u001b[39m.\u001b[39m_template\u001b[39m.\u001b[39mmodule\u001b[39m.\u001b[39m\u001b[39m__dict__\u001b[39m\u001b[39m.\u001b[39mget(\u001b[39m'\u001b[39m\u001b[39mscript\u001b[39m\u001b[39m'\u001b[39m, \u001b[39mNone\u001b[39;00m)\n\u001b[0;32m    640\u001b[0m \u001b[39mif\u001b[39;00m script \u001b[39mis\u001b[39;00m \u001b[39mnot\u001b[39;00m \u001b[39mNone\u001b[39;00m:\n\u001b[1;32m--> 641\u001b[0m     figure\u001b[39m.\u001b[39mscript\u001b[39m.\u001b[39madd_child(Element(script(\u001b[39mself\u001b[39;49m, kwargs)),\n\u001b[0;32m    642\u001b[0m                             name\u001b[39m=\u001b[39m\u001b[39mself\u001b[39m\u001b[39m.\u001b[39mget_name())\n\u001b[0;32m    644\u001b[0m \u001b[39mfor\u001b[39;00m name, element \u001b[39min\u001b[39;00m \u001b[39mself\u001b[39m\u001b[39m.\u001b[39m_children\u001b[39m.\u001b[39mitems():\n\u001b[0;32m    645\u001b[0m     element\u001b[39m.\u001b[39mrender(\u001b[39m*\u001b[39m\u001b[39m*\u001b[39mkwargs)\n",
      "File \u001b[1;32mc:\\Users\\diasa\\AppData\\Local\\Programs\\Python\\Python310\\lib\\site-packages\\branca\\element.py:61\u001b[0m, in \u001b[0;36mElement.__init__\u001b[1;34m(self, template, template_name)\u001b[0m\n\u001b[0;32m     58\u001b[0m \u001b[39mself\u001b[39m\u001b[39m.\u001b[39m_parent \u001b[39m=\u001b[39m \u001b[39mNone\u001b[39;00m\n\u001b[0;32m     60\u001b[0m \u001b[39mif\u001b[39;00m template \u001b[39mis\u001b[39;00m \u001b[39mnot\u001b[39;00m \u001b[39mNone\u001b[39;00m:\n\u001b[1;32m---> 61\u001b[0m     \u001b[39mself\u001b[39m\u001b[39m.\u001b[39m_template \u001b[39m=\u001b[39m Template(template)\n\u001b[0;32m     62\u001b[0m \u001b[39melif\u001b[39;00m template_name \u001b[39mis\u001b[39;00m \u001b[39mnot\u001b[39;00m \u001b[39mNone\u001b[39;00m:\n\u001b[0;32m     63\u001b[0m     \u001b[39mself\u001b[39m\u001b[39m.\u001b[39m_template \u001b[39m=\u001b[39m ENV\u001b[39m.\u001b[39mget_template(template_name)\n",
      "File \u001b[1;32mc:\\Users\\diasa\\AppData\\Local\\Programs\\Python\\Python310\\lib\\site-packages\\jinja2\\environment.py:1195\u001b[0m, in \u001b[0;36mTemplate.__new__\u001b[1;34m(cls, source, block_start_string, block_end_string, variable_start_string, variable_end_string, comment_start_string, comment_end_string, line_statement_prefix, line_comment_prefix, trim_blocks, lstrip_blocks, newline_sequence, keep_trailing_newline, extensions, optimized, undefined, finalize, autoescape, enable_async)\u001b[0m\n\u001b[0;32m   1148\u001b[0m \u001b[39mdef\u001b[39;00m \u001b[39m__new__\u001b[39m(\n\u001b[0;32m   1149\u001b[0m     \u001b[39mcls\u001b[39m,\n\u001b[0;32m   1150\u001b[0m     source: t\u001b[39m.\u001b[39mUnion[\u001b[39mstr\u001b[39m, nodes\u001b[39m.\u001b[39mTemplate],\n\u001b[1;32m   (...)\u001b[0m\n\u001b[0;32m   1168\u001b[0m     enable_async: \u001b[39mbool\u001b[39m \u001b[39m=\u001b[39m \u001b[39mFalse\u001b[39;00m,\n\u001b[0;32m   1169\u001b[0m ) \u001b[39m-\u001b[39m\u001b[39m>\u001b[39m t\u001b[39m.\u001b[39mAny:  \u001b[39m# it returns a `Template`, but this breaks the sphinx build...\u001b[39;00m\n\u001b[0;32m   1170\u001b[0m     env \u001b[39m=\u001b[39m get_spontaneous_environment(\n\u001b[0;32m   1171\u001b[0m         \u001b[39mcls\u001b[39m\u001b[39m.\u001b[39menvironment_class,  \u001b[39m# type: ignore\u001b[39;00m\n\u001b[0;32m   1172\u001b[0m         block_start_string,\n\u001b[1;32m   (...)\u001b[0m\n\u001b[0;32m   1193\u001b[0m         enable_async,\n\u001b[0;32m   1194\u001b[0m     )\n\u001b[1;32m-> 1195\u001b[0m     \u001b[39mreturn\u001b[39;00m env\u001b[39m.\u001b[39;49mfrom_string(source, template_class\u001b[39m=\u001b[39;49m\u001b[39mcls\u001b[39;49m)\n",
      "File \u001b[1;32mc:\\Users\\diasa\\AppData\\Local\\Programs\\Python\\Python310\\lib\\site-packages\\jinja2\\environment.py:1092\u001b[0m, in \u001b[0;36mEnvironment.from_string\u001b[1;34m(self, source, globals, template_class)\u001b[0m\n\u001b[0;32m   1090\u001b[0m gs \u001b[39m=\u001b[39m \u001b[39mself\u001b[39m\u001b[39m.\u001b[39mmake_globals(\u001b[39mglobals\u001b[39m)\n\u001b[0;32m   1091\u001b[0m \u001b[39mcls\u001b[39m \u001b[39m=\u001b[39m template_class \u001b[39mor\u001b[39;00m \u001b[39mself\u001b[39m\u001b[39m.\u001b[39mtemplate_class\n\u001b[1;32m-> 1092\u001b[0m \u001b[39mreturn\u001b[39;00m \u001b[39mcls\u001b[39m\u001b[39m.\u001b[39mfrom_code(\u001b[39mself\u001b[39m, \u001b[39mself\u001b[39;49m\u001b[39m.\u001b[39;49mcompile(source), gs, \u001b[39mNone\u001b[39;00m)\n",
      "File \u001b[1;32mc:\\Users\\diasa\\AppData\\Local\\Programs\\Python\\Python310\\lib\\site-packages\\jinja2\\environment.py:750\u001b[0m, in \u001b[0;36mEnvironment.compile\u001b[1;34m(self, source, name, filename, raw, defer_init)\u001b[0m\n\u001b[0;32m    748\u001b[0m     source_hint \u001b[39m=\u001b[39m source\n\u001b[0;32m    749\u001b[0m     source \u001b[39m=\u001b[39m \u001b[39mself\u001b[39m\u001b[39m.\u001b[39m_parse(source, name, filename)\n\u001b[1;32m--> 750\u001b[0m source \u001b[39m=\u001b[39m \u001b[39mself\u001b[39;49m\u001b[39m.\u001b[39;49m_generate(source, name, filename, defer_init\u001b[39m=\u001b[39;49mdefer_init)\n\u001b[0;32m    751\u001b[0m \u001b[39mif\u001b[39;00m raw:\n\u001b[0;32m    752\u001b[0m     \u001b[39mreturn\u001b[39;00m source\n",
      "File \u001b[1;32mc:\\Users\\diasa\\AppData\\Local\\Programs\\Python\\Python310\\lib\\site-packages\\jinja2\\environment.py:678\u001b[0m, in \u001b[0;36mEnvironment._generate\u001b[1;34m(self, source, name, filename, defer_init)\u001b[0m\n\u001b[0;32m    666\u001b[0m \u001b[39mdef\u001b[39;00m \u001b[39m_generate\u001b[39m(\n\u001b[0;32m    667\u001b[0m     \u001b[39mself\u001b[39m,\n\u001b[0;32m    668\u001b[0m     source: nodes\u001b[39m.\u001b[39mTemplate,\n\u001b[1;32m   (...)\u001b[0m\n\u001b[0;32m    671\u001b[0m     defer_init: \u001b[39mbool\u001b[39m \u001b[39m=\u001b[39m \u001b[39mFalse\u001b[39;00m,\n\u001b[0;32m    672\u001b[0m ) \u001b[39m-\u001b[39m\u001b[39m>\u001b[39m \u001b[39mstr\u001b[39m:\n\u001b[0;32m    673\u001b[0m \u001b[39m    \u001b[39m\u001b[39m\"\"\"Internal hook that can be overridden to hook a different generate\u001b[39;00m\n\u001b[0;32m    674\u001b[0m \u001b[39m    method in.\u001b[39;00m\n\u001b[0;32m    675\u001b[0m \n\u001b[0;32m    676\u001b[0m \u001b[39m    .. versionadded:: 2.5\u001b[39;00m\n\u001b[0;32m    677\u001b[0m \u001b[39m    \"\"\"\u001b[39;00m\n\u001b[1;32m--> 678\u001b[0m     \u001b[39mreturn\u001b[39;00m generate(  \u001b[39m# type: ignore\u001b[39;49;00m\n\u001b[0;32m    679\u001b[0m         source,\n\u001b[0;32m    680\u001b[0m         \u001b[39mself\u001b[39;49m,\n\u001b[0;32m    681\u001b[0m         name,\n\u001b[0;32m    682\u001b[0m         filename,\n\u001b[0;32m    683\u001b[0m         defer_init\u001b[39m=\u001b[39;49mdefer_init,\n\u001b[0;32m    684\u001b[0m         optimized\u001b[39m=\u001b[39;49m\u001b[39mself\u001b[39;49m\u001b[39m.\u001b[39;49moptimized,\n\u001b[0;32m    685\u001b[0m     )\n",
      "File \u001b[1;32mc:\\Users\\diasa\\AppData\\Local\\Programs\\Python\\Python310\\lib\\site-packages\\jinja2\\compiler.py:117\u001b[0m, in \u001b[0;36mgenerate\u001b[1;34m(node, environment, name, filename, stream, defer_init, optimized)\u001b[0m\n\u001b[0;32m    112\u001b[0m     \u001b[39mraise\u001b[39;00m \u001b[39mTypeError\u001b[39;00m(\u001b[39m\"\u001b[39m\u001b[39mCan\u001b[39m\u001b[39m'\u001b[39m\u001b[39mt compile non template nodes\u001b[39m\u001b[39m\"\u001b[39m)\n\u001b[0;32m    114\u001b[0m generator \u001b[39m=\u001b[39m environment\u001b[39m.\u001b[39mcode_generator_class(\n\u001b[0;32m    115\u001b[0m     environment, name, filename, stream, defer_init, optimized\n\u001b[0;32m    116\u001b[0m )\n\u001b[1;32m--> 117\u001b[0m generator\u001b[39m.\u001b[39;49mvisit(node)\n\u001b[0;32m    119\u001b[0m \u001b[39mif\u001b[39;00m stream \u001b[39mis\u001b[39;00m \u001b[39mNone\u001b[39;00m:\n\u001b[0;32m    120\u001b[0m     \u001b[39mreturn\u001b[39;00m generator\u001b[39m.\u001b[39mstream\u001b[39m.\u001b[39mgetvalue()  \u001b[39m# type: ignore\u001b[39;00m\n",
      "File \u001b[1;32mc:\\Users\\diasa\\AppData\\Local\\Programs\\Python\\Python310\\lib\\site-packages\\jinja2\\visitor.py:40\u001b[0m, in \u001b[0;36mNodeVisitor.visit\u001b[1;34m(self, node, *args, **kwargs)\u001b[0m\n\u001b[0;32m     37\u001b[0m f \u001b[39m=\u001b[39m \u001b[39mself\u001b[39m\u001b[39m.\u001b[39mget_visitor(node)\n\u001b[0;32m     39\u001b[0m \u001b[39mif\u001b[39;00m f \u001b[39mis\u001b[39;00m \u001b[39mnot\u001b[39;00m \u001b[39mNone\u001b[39;00m:\n\u001b[1;32m---> 40\u001b[0m     \u001b[39mreturn\u001b[39;00m f(node, \u001b[39m*\u001b[39margs, \u001b[39m*\u001b[39m\u001b[39m*\u001b[39mkwargs)\n\u001b[0;32m     42\u001b[0m \u001b[39mreturn\u001b[39;00m \u001b[39mself\u001b[39m\u001b[39m.\u001b[39mgeneric_visit(node, \u001b[39m*\u001b[39margs, \u001b[39m*\u001b[39m\u001b[39m*\u001b[39mkwargs)\n",
      "File \u001b[1;32mc:\\Users\\diasa\\AppData\\Local\\Programs\\Python\\Python310\\lib\\site-packages\\jinja2\\compiler.py:881\u001b[0m, in \u001b[0;36mCodeGenerator.visit_Template\u001b[1;34m(self, node, frame)\u001b[0m\n\u001b[0;32m    879\u001b[0m     ref \u001b[39m=\u001b[39m frame\u001b[39m.\u001b[39msymbols\u001b[39m.\u001b[39mdeclare_parameter(\u001b[39m\"\u001b[39m\u001b[39mself\u001b[39m\u001b[39m\"\u001b[39m)\n\u001b[0;32m    880\u001b[0m     \u001b[39mself\u001b[39m\u001b[39m.\u001b[39mwriteline(\u001b[39mf\u001b[39m\u001b[39m\"\u001b[39m\u001b[39m{\u001b[39;00mref\u001b[39m}\u001b[39;00m\u001b[39m = TemplateReference(context)\u001b[39m\u001b[39m\"\u001b[39m)\n\u001b[1;32m--> 881\u001b[0m frame\u001b[39m.\u001b[39;49msymbols\u001b[39m.\u001b[39;49manalyze_node(node)\n\u001b[0;32m    882\u001b[0m frame\u001b[39m.\u001b[39mtoplevel \u001b[39m=\u001b[39m frame\u001b[39m.\u001b[39mrootlevel \u001b[39m=\u001b[39m \u001b[39mTrue\u001b[39;00m\n\u001b[0;32m    883\u001b[0m frame\u001b[39m.\u001b[39mrequire_output_check \u001b[39m=\u001b[39m have_extends \u001b[39mand\u001b[39;00m \u001b[39mnot\u001b[39;00m \u001b[39mself\u001b[39m\u001b[39m.\u001b[39mhas_known_extends\n",
      "File \u001b[1;32mc:\\Users\\diasa\\AppData\\Local\\Programs\\Python\\Python310\\lib\\site-packages\\jinja2\\idtracking.py:48\u001b[0m, in \u001b[0;36mSymbols.analyze_node\u001b[1;34m(self, node, **kwargs)\u001b[0m\n\u001b[0;32m     46\u001b[0m \u001b[39mdef\u001b[39;00m \u001b[39manalyze_node\u001b[39m(\u001b[39mself\u001b[39m, node: nodes\u001b[39m.\u001b[39mNode, \u001b[39m*\u001b[39m\u001b[39m*\u001b[39mkwargs: t\u001b[39m.\u001b[39mAny) \u001b[39m-\u001b[39m\u001b[39m>\u001b[39m \u001b[39mNone\u001b[39;00m:\n\u001b[0;32m     47\u001b[0m     visitor \u001b[39m=\u001b[39m RootVisitor(\u001b[39mself\u001b[39m)\n\u001b[1;32m---> 48\u001b[0m     visitor\u001b[39m.\u001b[39mvisit(node, \u001b[39m*\u001b[39m\u001b[39m*\u001b[39mkwargs)\n",
      "File \u001b[1;32mc:\\Users\\diasa\\AppData\\Local\\Programs\\Python\\Python310\\lib\\site-packages\\jinja2\\visitor.py:40\u001b[0m, in \u001b[0;36mNodeVisitor.visit\u001b[1;34m(self, node, *args, **kwargs)\u001b[0m\n\u001b[0;32m     37\u001b[0m f \u001b[39m=\u001b[39m \u001b[39mself\u001b[39m\u001b[39m.\u001b[39mget_visitor(node)\n\u001b[0;32m     39\u001b[0m \u001b[39mif\u001b[39;00m f \u001b[39mis\u001b[39;00m \u001b[39mnot\u001b[39;00m \u001b[39mNone\u001b[39;00m:\n\u001b[1;32m---> 40\u001b[0m     \u001b[39mreturn\u001b[39;00m f(node, \u001b[39m*\u001b[39margs, \u001b[39m*\u001b[39m\u001b[39m*\u001b[39mkwargs)\n\u001b[0;32m     42\u001b[0m \u001b[39mreturn\u001b[39;00m \u001b[39mself\u001b[39m\u001b[39m.\u001b[39mgeneric_visit(node, \u001b[39m*\u001b[39margs, \u001b[39m*\u001b[39m\u001b[39m*\u001b[39mkwargs)\n",
      "File \u001b[1;32mc:\\Users\\diasa\\AppData\\Local\\Programs\\Python\\Python310\\lib\\site-packages\\jinja2\\idtracking.py:180\u001b[0m, in \u001b[0;36mRootVisitor._simple_visit\u001b[1;34m(self, node, **kwargs)\u001b[0m\n\u001b[0;32m    178\u001b[0m \u001b[39mdef\u001b[39;00m \u001b[39m_simple_visit\u001b[39m(\u001b[39mself\u001b[39m, node: nodes\u001b[39m.\u001b[39mNode, \u001b[39m*\u001b[39m\u001b[39m*\u001b[39mkwargs: t\u001b[39m.\u001b[39mAny) \u001b[39m-\u001b[39m\u001b[39m>\u001b[39m \u001b[39mNone\u001b[39;00m:\n\u001b[0;32m    179\u001b[0m     \u001b[39mfor\u001b[39;00m child \u001b[39min\u001b[39;00m node\u001b[39m.\u001b[39miter_child_nodes():\n\u001b[1;32m--> 180\u001b[0m         \u001b[39mself\u001b[39;49m\u001b[39m.\u001b[39;49msym_visitor\u001b[39m.\u001b[39;49mvisit(child)\n",
      "File \u001b[1;32mc:\\Users\\diasa\\AppData\\Local\\Programs\\Python\\Python310\\lib\\site-packages\\jinja2\\visitor.py:42\u001b[0m, in \u001b[0;36mNodeVisitor.visit\u001b[1;34m(self, node, *args, **kwargs)\u001b[0m\n\u001b[0;32m     39\u001b[0m \u001b[39mif\u001b[39;00m f \u001b[39mis\u001b[39;00m \u001b[39mnot\u001b[39;00m \u001b[39mNone\u001b[39;00m:\n\u001b[0;32m     40\u001b[0m     \u001b[39mreturn\u001b[39;00m f(node, \u001b[39m*\u001b[39margs, \u001b[39m*\u001b[39m\u001b[39m*\u001b[39mkwargs)\n\u001b[1;32m---> 42\u001b[0m \u001b[39mreturn\u001b[39;00m \u001b[39mself\u001b[39m\u001b[39m.\u001b[39mgeneric_visit(node, \u001b[39m*\u001b[39margs, \u001b[39m*\u001b[39m\u001b[39m*\u001b[39mkwargs)\n",
      "File \u001b[1;32mc:\\Users\\diasa\\AppData\\Local\\Programs\\Python\\Python310\\lib\\site-packages\\jinja2\\visitor.py:47\u001b[0m, in \u001b[0;36mNodeVisitor.generic_visit\u001b[1;34m(self, node, *args, **kwargs)\u001b[0m\n\u001b[0;32m     45\u001b[0m \u001b[39m\u001b[39m\u001b[39m\"\"\"Called if no explicit visitor function exists for a node.\"\"\"\u001b[39;00m\n\u001b[0;32m     46\u001b[0m \u001b[39mfor\u001b[39;00m node \u001b[39min\u001b[39;00m node\u001b[39m.\u001b[39miter_child_nodes():\n\u001b[1;32m---> 47\u001b[0m     \u001b[39mself\u001b[39m\u001b[39m.\u001b[39mvisit(node, \u001b[39m*\u001b[39margs, \u001b[39m*\u001b[39m\u001b[39m*\u001b[39mkwargs)\n",
      "File \u001b[1;32mc:\\Users\\diasa\\AppData\\Local\\Programs\\Python\\Python310\\lib\\site-packages\\jinja2\\visitor.py:42\u001b[0m, in \u001b[0;36mNodeVisitor.visit\u001b[1;34m(self, node, *args, **kwargs)\u001b[0m\n\u001b[0;32m     39\u001b[0m \u001b[39mif\u001b[39;00m f \u001b[39mis\u001b[39;00m \u001b[39mnot\u001b[39;00m \u001b[39mNone\u001b[39;00m:\n\u001b[0;32m     40\u001b[0m     \u001b[39mreturn\u001b[39;00m f(node, \u001b[39m*\u001b[39margs, \u001b[39m*\u001b[39m\u001b[39m*\u001b[39mkwargs)\n\u001b[1;32m---> 42\u001b[0m \u001b[39mreturn\u001b[39;00m \u001b[39mself\u001b[39m\u001b[39m.\u001b[39mgeneric_visit(node, \u001b[39m*\u001b[39margs, \u001b[39m*\u001b[39m\u001b[39m*\u001b[39mkwargs)\n",
      "File \u001b[1;32mc:\\Users\\diasa\\AppData\\Local\\Programs\\Python\\Python310\\lib\\site-packages\\jinja2\\visitor.py:46\u001b[0m, in \u001b[0;36mNodeVisitor.generic_visit\u001b[1;34m(self, node, *args, **kwargs)\u001b[0m\n\u001b[0;32m     44\u001b[0m \u001b[39mdef\u001b[39;00m \u001b[39mgeneric_visit\u001b[39m(\u001b[39mself\u001b[39m, node: Node, \u001b[39m*\u001b[39margs: t\u001b[39m.\u001b[39mAny, \u001b[39m*\u001b[39m\u001b[39m*\u001b[39mkwargs: t\u001b[39m.\u001b[39mAny) \u001b[39m-\u001b[39m\u001b[39m>\u001b[39m t\u001b[39m.\u001b[39mAny:\n\u001b[0;32m     45\u001b[0m \u001b[39m    \u001b[39m\u001b[39m\"\"\"Called if no explicit visitor function exists for a node.\"\"\"\u001b[39;00m\n\u001b[1;32m---> 46\u001b[0m     \u001b[39mfor\u001b[39;00m node \u001b[39min\u001b[39;00m node\u001b[39m.\u001b[39miter_child_nodes():\n\u001b[0;32m     47\u001b[0m         \u001b[39mself\u001b[39m\u001b[39m.\u001b[39mvisit(node, \u001b[39m*\u001b[39margs, \u001b[39m*\u001b[39m\u001b[39m*\u001b[39mkwargs)\n",
      "File \u001b[1;32mc:\\Users\\diasa\\AppData\\Local\\Programs\\Python\\Python310\\lib\\site-packages\\jinja2\\nodes.py:176\u001b[0m, in \u001b[0;36mNode.iter_child_nodes\u001b[1;34m(self, exclude, only)\u001b[0m\n\u001b[0;32m    167\u001b[0m \u001b[39mdef\u001b[39;00m \u001b[39miter_child_nodes\u001b[39m(\n\u001b[0;32m    168\u001b[0m     \u001b[39mself\u001b[39m,\n\u001b[0;32m    169\u001b[0m     exclude: t\u001b[39m.\u001b[39mOptional[t\u001b[39m.\u001b[39mContainer[\u001b[39mstr\u001b[39m]] \u001b[39m=\u001b[39m \u001b[39mNone\u001b[39;00m,\n\u001b[0;32m    170\u001b[0m     only: t\u001b[39m.\u001b[39mOptional[t\u001b[39m.\u001b[39mContainer[\u001b[39mstr\u001b[39m]] \u001b[39m=\u001b[39m \u001b[39mNone\u001b[39;00m,\n\u001b[0;32m    171\u001b[0m ) \u001b[39m-\u001b[39m\u001b[39m>\u001b[39m t\u001b[39m.\u001b[39mIterator[\u001b[39m\"\u001b[39m\u001b[39mNode\u001b[39m\u001b[39m\"\u001b[39m]:\n\u001b[0;32m    172\u001b[0m \u001b[39m    \u001b[39m\u001b[39m\"\"\"Iterates over all direct child nodes of the node.  This iterates\u001b[39;00m\n\u001b[0;32m    173\u001b[0m \u001b[39m    over all fields and yields the values of they are nodes.  If the value\u001b[39;00m\n\u001b[0;32m    174\u001b[0m \u001b[39m    of a field is a list all the nodes in that list are returned.\u001b[39;00m\n\u001b[0;32m    175\u001b[0m \u001b[39m    \"\"\"\u001b[39;00m\n\u001b[1;32m--> 176\u001b[0m     \u001b[39mfor\u001b[39;00m _, item \u001b[39min\u001b[39;00m \u001b[39mself\u001b[39m\u001b[39m.\u001b[39miter_fields(exclude, only):\n\u001b[0;32m    177\u001b[0m         \u001b[39mif\u001b[39;00m \u001b[39misinstance\u001b[39m(item, \u001b[39mlist\u001b[39m):\n\u001b[0;32m    178\u001b[0m             \u001b[39mfor\u001b[39;00m n \u001b[39min\u001b[39;00m item:\n",
      "File \u001b[1;32mc:\\Users\\diasa\\AppData\\Local\\Programs\\Python\\Python310\\lib\\site-packages\\jinja2\\nodes.py:145\u001b[0m, in \u001b[0;36mNode.iter_fields\u001b[1;34m(self, exclude, only)\u001b[0m\n\u001b[0;32m    142\u001b[0m     \u001b[39mif\u001b[39;00m attributes:\n\u001b[0;32m    143\u001b[0m         \u001b[39mraise\u001b[39;00m \u001b[39mTypeError\u001b[39;00m(\u001b[39mf\u001b[39m\u001b[39m\"\u001b[39m\u001b[39munknown attribute \u001b[39m\u001b[39m{\u001b[39;00m\u001b[39mnext\u001b[39m(\u001b[39miter\u001b[39m(attributes))\u001b[39m!r}\u001b[39;00m\u001b[39m\"\u001b[39m)\n\u001b[1;32m--> 145\u001b[0m \u001b[39mdef\u001b[39;00m \u001b[39miter_fields\u001b[39m(\n\u001b[0;32m    146\u001b[0m     \u001b[39mself\u001b[39m,\n\u001b[0;32m    147\u001b[0m     exclude: t\u001b[39m.\u001b[39mOptional[t\u001b[39m.\u001b[39mContainer[\u001b[39mstr\u001b[39m]] \u001b[39m=\u001b[39m \u001b[39mNone\u001b[39;00m,\n\u001b[0;32m    148\u001b[0m     only: t\u001b[39m.\u001b[39mOptional[t\u001b[39m.\u001b[39mContainer[\u001b[39mstr\u001b[39m]] \u001b[39m=\u001b[39m \u001b[39mNone\u001b[39;00m,\n\u001b[0;32m    149\u001b[0m ) \u001b[39m-\u001b[39m\u001b[39m>\u001b[39m t\u001b[39m.\u001b[39mIterator[t\u001b[39m.\u001b[39mTuple[\u001b[39mstr\u001b[39m, t\u001b[39m.\u001b[39mAny]]:\n\u001b[0;32m    150\u001b[0m \u001b[39m    \u001b[39m\u001b[39m\"\"\"This method iterates over all fields that are defined and yields\u001b[39;00m\n\u001b[0;32m    151\u001b[0m \u001b[39m    ``(key, value)`` tuples.  Per default all fields are returned, but\u001b[39;00m\n\u001b[0;32m    152\u001b[0m \u001b[39m    it's possible to limit that to some fields by providing the `only`\u001b[39;00m\n\u001b[0;32m    153\u001b[0m \u001b[39m    parameter or to exclude some using the `exclude` parameter.  Both\u001b[39;00m\n\u001b[0;32m    154\u001b[0m \u001b[39m    should be sets or tuples of field names.\u001b[39;00m\n\u001b[0;32m    155\u001b[0m \u001b[39m    \"\"\"\u001b[39;00m\n\u001b[0;32m    156\u001b[0m     \u001b[39mfor\u001b[39;00m name \u001b[39min\u001b[39;00m \u001b[39mself\u001b[39m\u001b[39m.\u001b[39mfields:\n",
      "\u001b[1;31mKeyboardInterrupt\u001b[0m: "
     ]
    }
   ],
   "source": [
    "import folium\n",
    "from folium.plugins import MarkerCluster, FeatureGroupSubGroup\n",
    "\n",
    "# créer la carte centrée sur la position moyenne des événements\n",
    "map = folium.Map(location=[geo['latitude'].mean(), geo['longitude'].mean()], zoom_start=4)\n",
    "\n",
    "# créer un groupe de marqueurs clusterisés\n",
    "marker_cluster = MarkerCluster().add_to(map)\n",
    "\n",
    "# ajouter un marqueur pour chaque événement dans le groupe de marqueurs clusterisés\n",
    "for index, row in geo.iterrows():\n",
    "    folium.Marker(location=[row['latitude'], row['longitude']]).add_to(marker_cluster)\n",
    "\n",
    "# créer un groupe pour afficher le nombre de marqueurs dans chaque cluster\n",
    "sub_group = folium.plugins.FeatureGroupSubGroup(marker_cluster, 'Events Count')\n",
    "\n",
    "# ajouter le groupe à la carte\n",
    "map.add_child(sub_group)\n",
    "\n",
    "# ajouter un compteur pour chaque cluster\n",
    "for i, layer in enumerate(marker_cluster._children.values()):\n",
    "    count = len(layer._children)\n",
    "    bounds = layer.get_bounds()\n",
    "    pos = [(bounds[0][0] + bounds[1][0]) / 2, (bounds[0][1] + bounds[1][1]) / 2]\n",
    "    folium.Marker(location=pos, icon=folium.Icon(icon='info-sign'), tooltip=str(count)).add_to(sub_group)\n",
    "\n",
    "map.save(\"carte.html\")"
   ]
  },
  {
   "cell_type": "code",
   "execution_count": 63,
   "metadata": {},
   "outputs": [
    {
     "name": "stdout",
     "output_type": "stream",
     "text": [
      "claimed    16.445302\n",
      "dtype: float64\n"
     ]
    }
   ],
   "source": [
    "# On regarde le nombre de d'attentats revendiqués par rapport au nombre total \n",
    "\n",
    "Revendiqué = df[[\"claimed\"]]\n",
    "\n",
    "#On récupère le nombre de ligne ou la colonne \"claimed\" est égale à 1 dans la variable \"count\"\n",
    "\n",
    "count = Revendiqué[Revendiqué.claimed == 1].count()\n",
    "\n",
    "#On récupère le nombre de ligne total dans la variable \"count2\"\n",
    "\n",
    "count2 = Revendiqué.count()\n",
    "\n",
    "#On calcule le pourcentage de ligne ou la colonne \"claimed\" est égale à 1\n",
    "\n",
    "pourcentage = (count/count2)*100\n",
    "\n",
    "print(pourcentage)\n"
   ]
  },
  {
   "attachments": {},
   "cell_type": "markdown",
   "metadata": {},
   "source": [
    "Test de séparation par continents :"
   ]
  },
  {
   "cell_type": "code",
   "execution_count": 77,
   "metadata": {},
   "outputs": [],
   "source": [
    "# Créer un dataframe pour comptabiliser le nombre d'événements par pays et continent\n",
    "events_by_country = geo.groupby(['region_txt', 'country_txt']).size().reset_index(name='count')\n",
    "\n",
    "# Boucle pour créer une carte pour chaque continent\n",
    "for continent in events_by_country['region_txt'].unique():\n",
    "\n",
    "    # Créer un dataframe pour le continent en cours\n",
    "    continent_df = events_by_country[events_by_country['region_txt'] == continent]\n",
    "\n",
    "   # Obtenir les informations de localisation pour chaque pays dans le continent\n",
    "    country_locations = geo.loc[geo['region_txt'] == continent, ['latitude', 'longitude', 'country_txt']].drop_duplicates()\n",
    "\n",
    "    # Créer une carte centrée sur la position moyenne des événements pour ce continent\n",
    "    map = folium.Map(location=[country_locations['latitude'].mean(), country_locations['longitude'].mean()], zoom_start=4)\n",
    "\n",
    "    # Ajouter un marqueur pour chaque pays dans le continent\n",
    "    for index, row in country_locations.iterrows():\n",
    "     folium.Marker(location=[row['latitude'], row['longitude']], popup=row['country_txt'] + ': ' + str(events_by_country[(events_by_country['region_txt'] == continent) & (events_by_country['country_txt'] == row['country_txt'])]['count'].values[0])).add_to(map)\n",
    "\n",
    "    # Enregistrer la carte\n",
    "    map.save(continent + '_events_map.html')\n"
   ]
  }
 ],
 "metadata": {
  "kernelspec": {
   "display_name": "Python 3",
   "language": "python",
   "name": "python3"
  },
  "language_info": {
   "codemirror_mode": {
    "name": "ipython",
    "version": 3
   },
   "file_extension": ".py",
   "mimetype": "text/x-python",
   "name": "python",
   "nbconvert_exporter": "python",
   "pygments_lexer": "ipython3",
   "version": "3.10.7"
  },
  "orig_nbformat": 4,
  "vscode": {
   "interpreter": {
    "hash": "211d6f00721faa73739c8552fbb93c7b0db50a8a64fc4250b0f38fa2e7420f95"
   }
  }
 },
 "nbformat": 4,
 "nbformat_minor": 2
}
